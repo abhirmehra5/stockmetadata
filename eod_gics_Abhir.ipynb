{
 "cells": [
  {
   "cell_type": "code",
   "execution_count": 1,
   "outputs": [],
   "source": [
    "import pandas as pd\n",
    "import requests"
   ],
   "metadata": {
    "collapsed": false,
    "pycharm": {
     "name": "#%%\n"
    }
   }
  },
  {
   "cell_type": "code",
   "execution_count": 2,
   "outputs": [],
   "source": [
    "data = pd.read_csv('unclean_eoddata_Abhir.csv')"
   ],
   "metadata": {
    "collapsed": false,
    "pycharm": {
     "name": "#%%\n"
    }
   }
  },
  {
   "cell_type": "code",
   "execution_count": 3,
   "outputs": [],
   "source": [
    "symbol_exchange = data[\"EOD-Code\"]+\".\"+data[\"EOD-Exchange\"]\n",
    "symbol_exchange.sort_values(inplace=True)\n",
    "symbol_exchange.dropna(inplace=True)\n",
    "columns = ['Code', 'ISIN', 'CUSIP','Sector','Industry','GicSector','GicGroup','GicIndustry','GicSubIndustry']\n",
    "df = pd.DataFrame(columns=columns)\n",
    "df2 = pd.DataFrame(columns=columns)"
   ],
   "metadata": {
    "collapsed": false,
    "pycharm": {
     "name": "#%%\n"
    }
   }
  },
  {
   "cell_type": "code",
   "execution_count": 5,
   "outputs": [],
   "source": [
    "for i in symbol_exchange:\n",
    "    try:\n",
    "        newdata=f'https://eodhistoricaldata.com/api/fundamentals/{i}?api_token=5f3afd582bd7b4.95720069'\n",
    "        a = requests.get(newdata).json()\n",
    "        train = pd.DataFrame.from_dict(a, orient='index')\n",
    "        train.reset_index(level=0, inplace=True)\n",
    "        train = train.iloc[0]\n",
    "        new = train[columns].copy().to_frame().T\n",
    "        df = pd.concat([df,new])\n",
    "\n",
    "    except:\n",
    "        df=pd.concat([df,df2])"
   ],
   "metadata": {
    "collapsed": false,
    "pycharm": {
     "name": "#%%\n"
    }
   }
  },
  {
   "cell_type": "code",
   "execution_count": 7,
   "outputs": [],
   "source": [
    "df.to_csv('gics_Abhir.csv')"
   ],
   "metadata": {
    "collapsed": false,
    "pycharm": {
     "name": "#%%\n"
    }
   }
  },
  {
   "cell_type": "code",
   "execution_count": null,
   "outputs": [],
   "source": [
    "gicsdata = pd.read_csv('gics_Abhir.csv')\n",
    "eoddata = pd.read_csv(\"eoddata_unclean_Abhir.csv\")"
   ],
   "metadata": {
    "collapsed": false,
    "pycharm": {
     "name": "#%%\n"
    }
   }
  },
  {
   "cell_type": "code",
   "execution_count": null,
   "outputs": [],
   "source": [
    "gicsdata=gicsdata.drop(columns=[\"Unnamed: 0\",\"Code\"])\n",
    "eoddata=eoddata.drop(columns=\"Unnamed: 0\")\n",
    "gicsdata = gicsdata.add_prefix(\"EOD-\")"
   ],
   "metadata": {
    "collapsed": false,
    "pycharm": {
     "name": "#%%\n"
    }
   }
  },
  {
   "cell_type": "code",
   "execution_count": null,
   "outputs": [],
   "source": [
    "output=pd.merge(eoddata,gicsdata,how=\"outer\")"
   ],
   "metadata": {
    "collapsed": false,
    "pycharm": {
     "name": "#%%\n"
    }
   }
  },
  {
   "cell_type": "code",
   "execution_count": null,
   "outputs": [],
   "source": [
    "output.to_csv('eoddata_Abhir.csv',index=False)"
   ],
   "metadata": {
    "collapsed": false,
    "pycharm": {
     "name": "#%%\n"
    }
   }
  }
 ],
 "metadata": {
  "kernelspec": {
   "display_name": "Python 3",
   "language": "python",
   "name": "python3"
  },
  "language_info": {
   "codemirror_mode": {
    "name": "ipython",
    "version": 2
   },
   "file_extension": ".py",
   "mimetype": "text/x-python",
   "name": "python",
   "nbconvert_exporter": "python",
   "pygments_lexer": "ipython2",
   "version": "2.7.6"
  }
 },
 "nbformat": 4,
 "nbformat_minor": 0
}