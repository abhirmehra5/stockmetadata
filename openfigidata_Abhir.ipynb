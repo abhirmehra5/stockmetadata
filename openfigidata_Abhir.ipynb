{
 "cells": [
  {
   "cell_type": "code",
   "execution_count": 1,
   "metadata": {
    "collapsed": true,
    "pycharm": {
     "name": "#%%\n"
    }
   },
   "outputs": [],
   "source": [
    "import requests\n",
    "import pandas as pd\n",
    "from time import sleep\n",
    "from tqdm.notebook import tqdm"
   ]
  },
  {
   "cell_type": "code",
   "execution_count": 2,
   "outputs": [],
   "source": [
    "ibdata = pd.read_csv('ibdata_Abhir.csv')\n",
    "ibdata.dropna(subset=[\"IB-ISIN\"],inplace=True)"
   ],
   "metadata": {
    "collapsed": false,
    "pycharm": {
     "name": "#%%\n"
    }
   }
  },
  {
   "cell_type": "code",
   "execution_count": 3,
   "outputs": [],
   "source": [
    "figi_data=pd.DataFrame(columns=['figi', 'name', 'ticker', 'exchCode', 'compositeFIGI', 'securityType',\n",
    "       'marketSector', 'shareClassFIGI', 'securityType2',\n",
    "       'securityDescription'])\n",
    "\n",
    "empty= {'figi': '',\n",
    "  'name': '',\n",
    "  'ticker': '',\n",
    "  'exchCode': '',\n",
    "  'compositeFIGI': '',\n",
    "  'securityType': '',\n",
    "  'marketSector': '',\n",
    "  'shareClassFIGI': '',\n",
    "  'securityType2': '',\n",
    "  'securityDescription': ''}"
   ],
   "metadata": {
    "collapsed": false,
    "pycharm": {
     "name": "#%%\n"
    }
   }
  },
  {
   "cell_type": "code",
   "execution_count": 4,
   "outputs": [],
   "source": [
    "openfigi_apikey = '71aaa940-3567-4040-bce5-9f43490a7703'\n",
    "openfigi_url = 'https://api.openfigi.com/v2/mapping'\n",
    "openfigi_headers = {'Content-Type': 'text/json'}"
   ],
   "metadata": {
    "collapsed": false,
    "pycharm": {
     "name": "#%%\n"
    }
   }
  },
  {
   "cell_type": "code",
   "execution_count": 5,
   "outputs": [],
   "source": [
    "def map_jobs(jobs):\n",
    "    if openfigi_apikey:\n",
    "        openfigi_headers['X-OPENFIGI-APIKEY'] = openfigi_apikey\n",
    "    response = requests.post(url=openfigi_url, headers=openfigi_headers,\n",
    "                             json=jobs)\n",
    "    if response.status_code != 200:\n",
    "        raise Exception('Bad response code {}'.format(str(response.status_code)))\n",
    "    return response.json()"
   ],
   "metadata": {
    "collapsed": false,
    "pycharm": {
     "name": "#%%\n"
    }
   }
  },
  {
   "cell_type": "code",
   "execution_count": 6,
   "outputs": [
    {
     "data": {
      "text/plain": "  0%|          | 0/920 [00:00<?, ?it/s]",
      "application/vnd.jupyter.widget-view+json": {
       "version_major": 2,
       "version_minor": 0,
       "model_id": "8b00664adee848a09ce469e39061ac12"
      }
     },
     "metadata": {},
     "output_type": "display_data"
    }
   ],
   "source": [
    "for i in tqdm(range(920)):\n",
    "    isins = ibdata['IB-ISIN'][25*i:25*i+25]\n",
    "    jobs=[]\n",
    "    for n in isins:\n",
    "        newjob = {'idType': 'ID_ISIN', 'idValue': n},\n",
    "        jobs.extend(newjob)\n",
    "    job_results = map_jobs(jobs)\n",
    "    just_dictionaries=[]\n",
    "    for j in job_results:\n",
    "        try:\n",
    "            just_dictionaries.append(j['data'][0])\n",
    "        except:\n",
    "            just_dictionaries.append(empty)\n",
    "    figi = pd.DataFrame.from_dict(just_dictionaries)\n",
    "    figi_data=pd.concat([figi_data,figi])\n",
    "    sleep(6)"
   ],
   "metadata": {
    "collapsed": false,
    "pycharm": {
     "name": "#%%\n"
    }
   }
  },
  {
   "cell_type": "code",
   "execution_count": 7,
   "outputs": [
    {
     "data": {
      "text/plain": "            figi                         name   ticker exchCode compositeFIGI  \\\n0   BBG008HNLRF4                1ST GROUP LTD      1ST       AU  BBG008HNLRF4   \n1   BBG001KS9450                       2U INC     TWOU       US  BBG001KS9450   \n2   BBG000C129N6           3DX INDUSTRIES INC     DDDX       US  BBG000C129N6   \n3   BBG000BP52R2                        3M CO      MMM       US  BBG000BP52R2   \n4   BBG00L33THJ4          MARLEY SPOON AG-CDI      MMM       AU  BBG00L33THJ4   \n..           ...                          ...      ...      ...           ...   \n9   BBG007BBS8B7  ZYNERBA PHARMACEUTICALS INC     ZYNE       US  BBG007BBS8B7   \n10  BBG000BJBXZ2                    ZYNEX INC     ZYXI       US  BBG000BJBXZ2   \n11  BBG005YZL376             ZYNGA INC - CL A  ZNGAEUR       XS  BBG005YZL2R6   \n12  BBG000BZPV76                 ZYTRONIC PLC      ZYT       LN  BBG000BZPTJ8   \n13  BBG000R19864  KINGWISOFT TECHNOLOGY GROUP     8295       HK  BBG000R19800   \n\n    securityType marketSector shareClassFIGI       securityType2  \\\n0   Common Stock       Equity   BBG008HNLRG3        Common Stock   \n1   Common Stock       Equity   BBG001V0RR30        Common Stock   \n2   Common Stock       Equity   BBG001STRH79        Common Stock   \n3   Common Stock       Equity   BBG001S5T7X2        Common Stock   \n4            CDI       Equity   BBG00L33THR5  Depositary Receipt   \n..           ...          ...            ...                 ...   \n9   Common Stock       Equity   BBG007BBS8C6        Common Stock   \n10  Common Stock       Equity   BBG001S7T7V0        Common Stock   \n11  Common Stock       Equity   BBG001T24RN2        Common Stock   \n12  Common Stock       Equity   BBG001SFLP13        Common Stock   \n13  Common Stock       Equity   BBG001T8ZFV2        Common Stock   \n\n   securityDescription uniqueID uniqueIDFutOpt  \n0                  1ST      NaN            NaN  \n1                 TWOU      NaN            NaN  \n2                 DDDX      NaN            NaN  \n3                  MMM      NaN            NaN  \n4                  MMM      NaN            NaN  \n..                 ...      ...            ...  \n9                 ZYNE     None           None  \n10                ZYXI     None           None  \n11             ZNGAEUR     None           None  \n12                 ZYT     None           None  \n13                8295     None           None  \n\n[22739 rows x 12 columns]",
      "text/html": "<div>\n<style scoped>\n    .dataframe tbody tr th:only-of-type {\n        vertical-align: middle;\n    }\n\n    .dataframe tbody tr th {\n        vertical-align: top;\n    }\n\n    .dataframe thead th {\n        text-align: right;\n    }\n</style>\n<table border=\"1\" class=\"dataframe\">\n  <thead>\n    <tr style=\"text-align: right;\">\n      <th></th>\n      <th>figi</th>\n      <th>name</th>\n      <th>ticker</th>\n      <th>exchCode</th>\n      <th>compositeFIGI</th>\n      <th>securityType</th>\n      <th>marketSector</th>\n      <th>shareClassFIGI</th>\n      <th>securityType2</th>\n      <th>securityDescription</th>\n      <th>uniqueID</th>\n      <th>uniqueIDFutOpt</th>\n    </tr>\n  </thead>\n  <tbody>\n    <tr>\n      <th>0</th>\n      <td>BBG008HNLRF4</td>\n      <td>1ST GROUP LTD</td>\n      <td>1ST</td>\n      <td>AU</td>\n      <td>BBG008HNLRF4</td>\n      <td>Common Stock</td>\n      <td>Equity</td>\n      <td>BBG008HNLRG3</td>\n      <td>Common Stock</td>\n      <td>1ST</td>\n      <td>NaN</td>\n      <td>NaN</td>\n    </tr>\n    <tr>\n      <th>1</th>\n      <td>BBG001KS9450</td>\n      <td>2U INC</td>\n      <td>TWOU</td>\n      <td>US</td>\n      <td>BBG001KS9450</td>\n      <td>Common Stock</td>\n      <td>Equity</td>\n      <td>BBG001V0RR30</td>\n      <td>Common Stock</td>\n      <td>TWOU</td>\n      <td>NaN</td>\n      <td>NaN</td>\n    </tr>\n    <tr>\n      <th>2</th>\n      <td>BBG000C129N6</td>\n      <td>3DX INDUSTRIES INC</td>\n      <td>DDDX</td>\n      <td>US</td>\n      <td>BBG000C129N6</td>\n      <td>Common Stock</td>\n      <td>Equity</td>\n      <td>BBG001STRH79</td>\n      <td>Common Stock</td>\n      <td>DDDX</td>\n      <td>NaN</td>\n      <td>NaN</td>\n    </tr>\n    <tr>\n      <th>3</th>\n      <td>BBG000BP52R2</td>\n      <td>3M CO</td>\n      <td>MMM</td>\n      <td>US</td>\n      <td>BBG000BP52R2</td>\n      <td>Common Stock</td>\n      <td>Equity</td>\n      <td>BBG001S5T7X2</td>\n      <td>Common Stock</td>\n      <td>MMM</td>\n      <td>NaN</td>\n      <td>NaN</td>\n    </tr>\n    <tr>\n      <th>4</th>\n      <td>BBG00L33THJ4</td>\n      <td>MARLEY SPOON AG-CDI</td>\n      <td>MMM</td>\n      <td>AU</td>\n      <td>BBG00L33THJ4</td>\n      <td>CDI</td>\n      <td>Equity</td>\n      <td>BBG00L33THR5</td>\n      <td>Depositary Receipt</td>\n      <td>MMM</td>\n      <td>NaN</td>\n      <td>NaN</td>\n    </tr>\n    <tr>\n      <th>...</th>\n      <td>...</td>\n      <td>...</td>\n      <td>...</td>\n      <td>...</td>\n      <td>...</td>\n      <td>...</td>\n      <td>...</td>\n      <td>...</td>\n      <td>...</td>\n      <td>...</td>\n      <td>...</td>\n      <td>...</td>\n    </tr>\n    <tr>\n      <th>9</th>\n      <td>BBG007BBS8B7</td>\n      <td>ZYNERBA PHARMACEUTICALS INC</td>\n      <td>ZYNE</td>\n      <td>US</td>\n      <td>BBG007BBS8B7</td>\n      <td>Common Stock</td>\n      <td>Equity</td>\n      <td>BBG007BBS8C6</td>\n      <td>Common Stock</td>\n      <td>ZYNE</td>\n      <td>None</td>\n      <td>None</td>\n    </tr>\n    <tr>\n      <th>10</th>\n      <td>BBG000BJBXZ2</td>\n      <td>ZYNEX INC</td>\n      <td>ZYXI</td>\n      <td>US</td>\n      <td>BBG000BJBXZ2</td>\n      <td>Common Stock</td>\n      <td>Equity</td>\n      <td>BBG001S7T7V0</td>\n      <td>Common Stock</td>\n      <td>ZYXI</td>\n      <td>None</td>\n      <td>None</td>\n    </tr>\n    <tr>\n      <th>11</th>\n      <td>BBG005YZL376</td>\n      <td>ZYNGA INC - CL A</td>\n      <td>ZNGAEUR</td>\n      <td>XS</td>\n      <td>BBG005YZL2R6</td>\n      <td>Common Stock</td>\n      <td>Equity</td>\n      <td>BBG001T24RN2</td>\n      <td>Common Stock</td>\n      <td>ZNGAEUR</td>\n      <td>None</td>\n      <td>None</td>\n    </tr>\n    <tr>\n      <th>12</th>\n      <td>BBG000BZPV76</td>\n      <td>ZYTRONIC PLC</td>\n      <td>ZYT</td>\n      <td>LN</td>\n      <td>BBG000BZPTJ8</td>\n      <td>Common Stock</td>\n      <td>Equity</td>\n      <td>BBG001SFLP13</td>\n      <td>Common Stock</td>\n      <td>ZYT</td>\n      <td>None</td>\n      <td>None</td>\n    </tr>\n    <tr>\n      <th>13</th>\n      <td>BBG000R19864</td>\n      <td>KINGWISOFT TECHNOLOGY GROUP</td>\n      <td>8295</td>\n      <td>HK</td>\n      <td>BBG000R19800</td>\n      <td>Common Stock</td>\n      <td>Equity</td>\n      <td>BBG001T8ZFV2</td>\n      <td>Common Stock</td>\n      <td>8295</td>\n      <td>None</td>\n      <td>None</td>\n    </tr>\n  </tbody>\n</table>\n<p>22739 rows × 12 columns</p>\n</div>"
     },
     "execution_count": 7,
     "metadata": {},
     "output_type": "execute_result"
    }
   ],
   "source": [
    "figi_data"
   ],
   "metadata": {
    "collapsed": false,
    "pycharm": {
     "name": "#%%\n"
    }
   }
  },
  {
   "cell_type": "code",
   "execution_count": 9,
   "outputs": [],
   "source": [
    "figi_data=figi_data.add_prefix(\"OpenFigi-\")\n",
    "figi_data.to_csv(\"openfigidata_Abhir.csv\")"
   ],
   "metadata": {
    "collapsed": false,
    "pycharm": {
     "name": "#%%\n"
    }
   }
  }
 ],
 "metadata": {
  "kernelspec": {
   "display_name": "Python 3",
   "language": "python",
   "name": "python3"
  },
  "language_info": {
   "codemirror_mode": {
    "name": "ipython",
    "version": 2
   },
   "file_extension": ".py",
   "mimetype": "text/x-python",
   "name": "python",
   "nbconvert_exporter": "python",
   "pygments_lexer": "ipython2",
   "version": "2.7.6"
  }
 },
 "nbformat": 4,
 "nbformat_minor": 0
}