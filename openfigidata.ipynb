{
 "cells": [
  {
   "cell_type": "code",
   "execution_count": 2,
   "metadata": {
    "collapsed": true,
    "pycharm": {
     "name": "#%%\n"
    }
   },
   "outputs": [],
   "source": [
    "import requests\n",
    "import pandas as pd"
   ]
  },
  {
   "cell_type": "code",
   "execution_count": 3,
   "outputs": [],
   "source": [
    "ibdata = pd.read_csv('ibdata.csv')\n",
    "isins = ibdata['IB-ISIN'].head(10)"
   ],
   "metadata": {
    "collapsed": false,
    "pycharm": {
     "name": "#%%\n"
    }
   }
  },
  {
   "cell_type": "code",
   "execution_count": 4,
   "outputs": [],
   "source": [
    "jobs=[]\n",
    "for i in isins:\n",
    "    newjob = {'idType': 'ID_ISIN', 'idValue': i},\n",
    "    jobs.extend(newjob)"
   ],
   "metadata": {
    "collapsed": false,
    "pycharm": {
     "name": "#%%\n"
    }
   }
  },
  {
   "cell_type": "code",
   "execution_count": 5,
   "outputs": [],
   "source": [
    "openfigi_apikey = ''\n",
    "openfigi_url = 'https://api.openfigi.com/v2/mapping'\n",
    "openfigi_headers = {'Content-Type': 'text/json'}"
   ],
   "metadata": {
    "collapsed": false,
    "pycharm": {
     "name": "#%%\n"
    }
   }
  },
  {
   "cell_type": "code",
   "execution_count": 6,
   "outputs": [],
   "source": [
    "def map_jobs(jobs):\n",
    "    if openfigi_apikey:\n",
    "        openfigi_headers['X-OPENFIGI-APIKEY'] = openfigi_apikey\n",
    "    response = requests.post(url=openfigi_url, headers=openfigi_headers,\n",
    "                             json=jobs)\n",
    "    if response.status_code != 200:\n",
    "        raise Exception('Bad response code {}'.format(str(response.status_code)))\n",
    "    return response.json()"
   ],
   "metadata": {
    "collapsed": false,
    "pycharm": {
     "name": "#%%\n"
    }
   }
  },
  {
   "cell_type": "code",
   "execution_count": 7,
   "outputs": [],
   "source": [
    "job_results = map_jobs(jobs)\n",
    "just_dictionaries = [d['data'][0] for d in job_results]\n",
    "df_figi = pd.DataFrame.from_dict(just_dictionaries)\n",
    "df_figi = df_figi.add_prefix('openFIGI-')"
   ],
   "metadata": {
    "collapsed": false,
    "pycharm": {
     "name": "#%%\n"
    }
   }
  },
  {
   "cell_type": "code",
   "execution_count": 8,
   "outputs": [
    {
     "data": {
      "text/plain": "  openFIGI-figi                 openFIGI-name openFIGI-ticker  \\\n0  BBG008HNLRF4                 1ST GROUP LTD             1ST   \n1  BBG001KS9450                        2U INC            TWOU   \n2  BBG000C129N6            3DX INDUSTRIES INC            DDDX   \n3  BBG000BP52R2                         3M CO             MMM   \n4  BBG00L33THJ4           MARLEY SPOON AG-CDI             MMM   \n5  BBG000BBK8C9            MINCO CAPITAL CORP             MMM   \n6  BBG00S6QT574  MINING MINERALS & METALS PLC             MMM   \n7  BBG000BWTTK9                 88 ENERGY LTD             POQ   \n8  BBG0073FB9K3           A CLASSIFIED AD INC            AQFD   \n9  BBG00NG9S234                   BIRDMAN INC            7063   \n\n  openFIGI-exchCode openFIGI-compositeFIGI openFIGI-uniqueID  \\\n0                AU           BBG008HNLRF4              None   \n1                US           BBG001KS9450              None   \n2                US           BBG000C129N6              None   \n3                US           BBG000BP52R2              None   \n4                AU           BBG00L33THJ4              None   \n5                CN           BBG000BBK8C9              None   \n6                LN           BBG00S6QT565              None   \n7                GR           BBG000BWTTK9              None   \n8                US           BBG0073FB9K3              None   \n9                JP           BBG00NG9S234              None   \n\n  openFIGI-securityType openFIGI-marketSector openFIGI-shareClassFIGI  \\\n0          Common Stock                Equity            BBG008HNLRG3   \n1          Common Stock                Equity            BBG001V0RR30   \n2          Common Stock                Equity            BBG001STRH79   \n3          Common Stock                Equity            BBG001S5T7X2   \n4                   CDI                Equity            BBG00L33THR5   \n5          Common Stock                Equity            BBG001S5ZLY3   \n6          Common Stock                Equity            BBG00S6QT5D7   \n7          Common Stock                Equity            BBG001SCV1F7   \n8          Common Stock                Equity            BBG0073FB9L2   \n9          Common Stock                Equity            BBG00NG9S261   \n\n  openFIGI-uniqueIDFutOpt openFIGI-securityType2 openFIGI-securityDescription  \n0                    None           Common Stock                          1ST  \n1                    None           Common Stock                         TWOU  \n2                    None           Common Stock                         DDDX  \n3                    None           Common Stock                          MMM  \n4                    None     Depositary Receipt                          MMM  \n5                    None           Common Stock                          MMM  \n6                    None           Common Stock                          MMM  \n7                    None           Common Stock                          POQ  \n8                    None           Common Stock                         AQFD  \n9                    None           Common Stock                         7063  ",
      "text/html": "<div>\n<style scoped>\n    .dataframe tbody tr th:only-of-type {\n        vertical-align: middle;\n    }\n\n    .dataframe tbody tr th {\n        vertical-align: top;\n    }\n\n    .dataframe thead th {\n        text-align: right;\n    }\n</style>\n<table border=\"1\" class=\"dataframe\">\n  <thead>\n    <tr style=\"text-align: right;\">\n      <th></th>\n      <th>openFIGI-figi</th>\n      <th>openFIGI-name</th>\n      <th>openFIGI-ticker</th>\n      <th>openFIGI-exchCode</th>\n      <th>openFIGI-compositeFIGI</th>\n      <th>openFIGI-uniqueID</th>\n      <th>openFIGI-securityType</th>\n      <th>openFIGI-marketSector</th>\n      <th>openFIGI-shareClassFIGI</th>\n      <th>openFIGI-uniqueIDFutOpt</th>\n      <th>openFIGI-securityType2</th>\n      <th>openFIGI-securityDescription</th>\n    </tr>\n  </thead>\n  <tbody>\n    <tr>\n      <th>0</th>\n      <td>BBG008HNLRF4</td>\n      <td>1ST GROUP LTD</td>\n      <td>1ST</td>\n      <td>AU</td>\n      <td>BBG008HNLRF4</td>\n      <td>None</td>\n      <td>Common Stock</td>\n      <td>Equity</td>\n      <td>BBG008HNLRG3</td>\n      <td>None</td>\n      <td>Common Stock</td>\n      <td>1ST</td>\n    </tr>\n    <tr>\n      <th>1</th>\n      <td>BBG001KS9450</td>\n      <td>2U INC</td>\n      <td>TWOU</td>\n      <td>US</td>\n      <td>BBG001KS9450</td>\n      <td>None</td>\n      <td>Common Stock</td>\n      <td>Equity</td>\n      <td>BBG001V0RR30</td>\n      <td>None</td>\n      <td>Common Stock</td>\n      <td>TWOU</td>\n    </tr>\n    <tr>\n      <th>2</th>\n      <td>BBG000C129N6</td>\n      <td>3DX INDUSTRIES INC</td>\n      <td>DDDX</td>\n      <td>US</td>\n      <td>BBG000C129N6</td>\n      <td>None</td>\n      <td>Common Stock</td>\n      <td>Equity</td>\n      <td>BBG001STRH79</td>\n      <td>None</td>\n      <td>Common Stock</td>\n      <td>DDDX</td>\n    </tr>\n    <tr>\n      <th>3</th>\n      <td>BBG000BP52R2</td>\n      <td>3M CO</td>\n      <td>MMM</td>\n      <td>US</td>\n      <td>BBG000BP52R2</td>\n      <td>None</td>\n      <td>Common Stock</td>\n      <td>Equity</td>\n      <td>BBG001S5T7X2</td>\n      <td>None</td>\n      <td>Common Stock</td>\n      <td>MMM</td>\n    </tr>\n    <tr>\n      <th>4</th>\n      <td>BBG00L33THJ4</td>\n      <td>MARLEY SPOON AG-CDI</td>\n      <td>MMM</td>\n      <td>AU</td>\n      <td>BBG00L33THJ4</td>\n      <td>None</td>\n      <td>CDI</td>\n      <td>Equity</td>\n      <td>BBG00L33THR5</td>\n      <td>None</td>\n      <td>Depositary Receipt</td>\n      <td>MMM</td>\n    </tr>\n    <tr>\n      <th>5</th>\n      <td>BBG000BBK8C9</td>\n      <td>MINCO CAPITAL CORP</td>\n      <td>MMM</td>\n      <td>CN</td>\n      <td>BBG000BBK8C9</td>\n      <td>None</td>\n      <td>Common Stock</td>\n      <td>Equity</td>\n      <td>BBG001S5ZLY3</td>\n      <td>None</td>\n      <td>Common Stock</td>\n      <td>MMM</td>\n    </tr>\n    <tr>\n      <th>6</th>\n      <td>BBG00S6QT574</td>\n      <td>MINING MINERALS &amp; METALS PLC</td>\n      <td>MMM</td>\n      <td>LN</td>\n      <td>BBG00S6QT565</td>\n      <td>None</td>\n      <td>Common Stock</td>\n      <td>Equity</td>\n      <td>BBG00S6QT5D7</td>\n      <td>None</td>\n      <td>Common Stock</td>\n      <td>MMM</td>\n    </tr>\n    <tr>\n      <th>7</th>\n      <td>BBG000BWTTK9</td>\n      <td>88 ENERGY LTD</td>\n      <td>POQ</td>\n      <td>GR</td>\n      <td>BBG000BWTTK9</td>\n      <td>None</td>\n      <td>Common Stock</td>\n      <td>Equity</td>\n      <td>BBG001SCV1F7</td>\n      <td>None</td>\n      <td>Common Stock</td>\n      <td>POQ</td>\n    </tr>\n    <tr>\n      <th>8</th>\n      <td>BBG0073FB9K3</td>\n      <td>A CLASSIFIED AD INC</td>\n      <td>AQFD</td>\n      <td>US</td>\n      <td>BBG0073FB9K3</td>\n      <td>None</td>\n      <td>Common Stock</td>\n      <td>Equity</td>\n      <td>BBG0073FB9L2</td>\n      <td>None</td>\n      <td>Common Stock</td>\n      <td>AQFD</td>\n    </tr>\n    <tr>\n      <th>9</th>\n      <td>BBG00NG9S234</td>\n      <td>BIRDMAN INC</td>\n      <td>7063</td>\n      <td>JP</td>\n      <td>BBG00NG9S234</td>\n      <td>None</td>\n      <td>Common Stock</td>\n      <td>Equity</td>\n      <td>BBG00NG9S261</td>\n      <td>None</td>\n      <td>Common Stock</td>\n      <td>7063</td>\n    </tr>\n  </tbody>\n</table>\n</div>"
     },
     "execution_count": 8,
     "metadata": {},
     "output_type": "execute_result"
    }
   ],
   "source": [
    "df_figi"
   ],
   "metadata": {
    "collapsed": false,
    "pycharm": {
     "name": "#%%\n"
    }
   }
  },
  {
   "cell_type": "code",
   "execution_count": 9,
   "outputs": [],
   "source": [
    "df_figi.to_csv('openfigidata.csv')"
   ],
   "metadata": {
    "collapsed": false,
    "pycharm": {
     "name": "#%%\n"
    }
   }
  }
 ],
 "metadata": {
  "kernelspec": {
   "display_name": "Python 3",
   "language": "python",
   "name": "python3"
  },
  "language_info": {
   "codemirror_mode": {
    "name": "ipython",
    "version": 2
   },
   "file_extension": ".py",
   "mimetype": "text/x-python",
   "name": "python",
   "nbconvert_exporter": "python",
   "pygments_lexer": "ipython2",
   "version": "2.7.6"
  }
 },
 "nbformat": 4,
 "nbformat_minor": 0
}