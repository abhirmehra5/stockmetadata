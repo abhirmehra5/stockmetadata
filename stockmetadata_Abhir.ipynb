{
 "cells": [
  {
   "cell_type": "code",
   "execution_count": 1,
   "outputs": [],
   "source": [
    "import pandas as pd\n",
    "import numpy as np"
   ],
   "metadata": {
    "collapsed": false,
    "pycharm": {
     "name": "#%%\n"
    }
   }
  },
  {
   "cell_type": "code",
   "execution_count": 2,
   "outputs": [],
   "source": [
    "data=pd.read_csv(\"Global_ESG_Jul17_Jun20.csv\")\n",
    "ibdata=pd.read_csv('ibdata_Abhir.csv')\n",
    "figidata=pd.read_csv('openfigidata_Abhir.csv')\n",
    "isindbdata=pd.read_csv('isindb_Abhir.csv')\n",
    "eoddata=pd.read_csv('eoddata_Abhir.csv')"
   ],
   "metadata": {
    "collapsed": false,
    "pycharm": {
     "name": "#%%\n"
    }
   }
  },
  {
   "cell_type": "code",
   "execution_count": 3,
   "outputs": [],
   "source": [
    "data=data.drop_duplicates(subset=['Ticker'])"
   ],
   "metadata": {
    "collapsed": false,
    "pycharm": {
     "name": "#%%\n"
    }
   }
  },
  {
   "cell_type": "code",
   "execution_count": 4,
   "outputs": [],
   "source": [
    "ibdata=ibdata.drop(columns=\"Unnamed: 0\")\n",
    "figidata=figidata.drop(columns=\"Unnamed: 0\")\n",
    "isindbdata=isindbdata.drop(columns=\"Unnamed: 0\")"
   ],
   "metadata": {
    "collapsed": false,
    "pycharm": {
     "name": "#%%\n"
    }
   }
  },
  {
   "cell_type": "code",
   "execution_count": 5,
   "outputs": [],
   "source": [
    "ibdata=ibdata.drop_duplicates(subset=\"IB-longName\")\n",
    "isindbdata=isindbdata.drop_duplicates(subset=\"isindb-ISIN\")\n",
    "figidata=figidata.drop_duplicates(subset=\"OpenFigi-OpenFigi-name\")\n",
    "eoddata=eoddata.drop_duplicates(subset=\"EOD-ISIN\")"
   ],
   "metadata": {
    "collapsed": false,
    "pycharm": {
     "name": "#%%\n"
    }
   }
  },
  {
   "cell_type": "code",
   "execution_count": 6,
   "outputs": [],
   "source": [
    "data=data.merge(ibdata,left_on=\"Company_Name\",right_on=\"IB-longName\",how=\"left\")\n",
    "data=data.merge(isindbdata,left_on=\"IB-ISIN\",right_on=\"isindb-ISIN\",how=\"left\")\n",
    "data=data.merge(figidata,left_on=\"Company_Name\",right_on=\"OpenFigi-OpenFigi-name\",how=\"left\")\n",
    "data=data.merge(eoddata,left_on=\"IB-ISIN\",right_on=\"EOD-ISIN\",how=\"left\")"
   ],
   "metadata": {
    "collapsed": false,
    "pycharm": {
     "name": "#%%\n"
    }
   }
  },
  {
   "cell_type": "code",
   "execution_count": 7,
   "outputs": [
    {
     "data": {
      "text/plain": "        Timestamp Ticker     Exchange                  Company_Name         E  \\\n0      2017-07-01    1ST          ASX                 1ST GROUP LTD       NaN   \n1      2017-07-01   TWOU       NASDAQ                        2U INC       NaN   \n2      2017-07-01   DDDX         PINK            3DX INDUSTRIES INC       NaN   \n3      2017-07-01    MMM  US Exchange                         3M CO       NaN   \n4      2017-07-01    88E          LSE                 88 ENERGY LTD       NaN   \n...           ...    ...          ...                           ...       ...   \n17949  2017-07-01   ZYNE       NASDAQ   ZYNERBA PHARMACEUTICALS INC  0.534073   \n17950  2017-07-01   ZYXI       NASDAQ                     ZYNEX INC       NaN   \n17951  2017-07-01   ZNGA       NASDAQ              ZYNGA INC - CL A -0.877308   \n17952  2017-07-01    ZYT          LSE                  ZYTRONIC PLC       NaN   \n17953  2017-07-01   8295         SEHK  ZZ CAPITAL INTERNATIONAL LTD       NaN   \n\n              S         G  ESG_Mean     STS_E     STS_S  ...      EOD-ISIN  \\\n0           NaN       NaN       NaN  0.632268  0.443666  ...  AU0000001ST0   \n1           NaN       NaN       NaN  0.309504  0.319239  ...  US90214J1016   \n2           NaN       NaN       NaN -0.449226 -0.649688  ...  US88556A1007   \n3           NaN       NaN       NaN  0.376139  0.301416  ...  US88579Y1010   \n4           NaN       NaN       NaN  0.639011  0.822957  ...  AU00000088E2   \n...         ...       ...       ...       ...       ...  ...           ...   \n17949  0.534132  0.448869  0.505691 -0.025743  0.105700  ...  US98986X1090   \n17950       NaN       NaN       NaN  0.194208  0.217249  ...  US98986M1036   \n17951 -1.913663 -1.934595 -1.575189 -0.932901 -0.896336  ...           NaN   \n17952       NaN       NaN       NaN       NaN       NaN  ...  GB0006971013   \n17953       NaN       NaN       NaN  0.031431  0.024081  ...           NaN   \n\n       EOD-previousClose  EOD-previousCloseDate  EOD-CUSIP  \\\n0                 0.0070             2022-07-20        NaN   \n1                11.0700             2022-07-20  90214J101   \n2                 0.0595             2022-07-20        NaN   \n3               133.0100             2022-07-20  604059105   \n4                 0.7250             2022-07-20        NaN   \n...                  ...                    ...        ...   \n17949             1.1500             2022-07-20        NaN   \n17950             7.6300             2022-07-20        NaN   \n17951                NaN                    NaN        NaN   \n17952           130.0000             2022-07-20        NaN   \n17953             1.8700             2022-07-20        NaN   \n\n               EOD-Sector                   EOD-Industry  \\\n0                     NaN                            NaN   \n1      Consumer Defensive  Education & Training Services   \n2                     NaN                            NaN   \n3             Industrials                  Conglomerates   \n4                     NaN                            NaN   \n...                   ...                            ...   \n17949                 NaN                            NaN   \n17950                 NaN                            NaN   \n17951                 NaN                            NaN   \n17952                 NaN                            NaN   \n17953                 NaN                            NaN   \n\n                EOD-GicSector         EOD-GicGroup           EOD-GicIndustry  \\\n0                         NaN                  NaN                       NaN   \n1      Information Technology  Software & Services                  Software   \n2                         NaN                  NaN                       NaN   \n3                 Industrials        Capital Goods  Industrial Conglomerates   \n4                         NaN                  NaN                       NaN   \n...                       ...                  ...                       ...   \n17949                     NaN                  NaN                       NaN   \n17950                     NaN                  NaN                       NaN   \n17951                     NaN                  NaN                       NaN   \n17952                     NaN                  NaN                       NaN   \n17953                     NaN                  NaN                       NaN   \n\n             EOD-GicSubIndustry  \n0                           NaN  \n1          Application Software  \n2                           NaN  \n3      Industrial Conglomerates  \n4                           NaN  \n...                         ...  \n17949                       NaN  \n17950                       NaN  \n17951                       NaN  \n17952                       NaN  \n17953                       NaN  \n\n[17954 rows x 55 columns]",
      "text/html": "<div>\n<style scoped>\n    .dataframe tbody tr th:only-of-type {\n        vertical-align: middle;\n    }\n\n    .dataframe tbody tr th {\n        vertical-align: top;\n    }\n\n    .dataframe thead th {\n        text-align: right;\n    }\n</style>\n<table border=\"1\" class=\"dataframe\">\n  <thead>\n    <tr style=\"text-align: right;\">\n      <th></th>\n      <th>Timestamp</th>\n      <th>Ticker</th>\n      <th>Exchange</th>\n      <th>Company_Name</th>\n      <th>E</th>\n      <th>S</th>\n      <th>G</th>\n      <th>ESG_Mean</th>\n      <th>STS_E</th>\n      <th>STS_S</th>\n      <th>...</th>\n      <th>EOD-ISIN</th>\n      <th>EOD-previousClose</th>\n      <th>EOD-previousCloseDate</th>\n      <th>EOD-CUSIP</th>\n      <th>EOD-Sector</th>\n      <th>EOD-Industry</th>\n      <th>EOD-GicSector</th>\n      <th>EOD-GicGroup</th>\n      <th>EOD-GicIndustry</th>\n      <th>EOD-GicSubIndustry</th>\n    </tr>\n  </thead>\n  <tbody>\n    <tr>\n      <th>0</th>\n      <td>2017-07-01</td>\n      <td>1ST</td>\n      <td>ASX</td>\n      <td>1ST GROUP LTD</td>\n      <td>NaN</td>\n      <td>NaN</td>\n      <td>NaN</td>\n      <td>NaN</td>\n      <td>0.632268</td>\n      <td>0.443666</td>\n      <td>...</td>\n      <td>AU0000001ST0</td>\n      <td>0.0070</td>\n      <td>2022-07-20</td>\n      <td>NaN</td>\n      <td>NaN</td>\n      <td>NaN</td>\n      <td>NaN</td>\n      <td>NaN</td>\n      <td>NaN</td>\n      <td>NaN</td>\n    </tr>\n    <tr>\n      <th>1</th>\n      <td>2017-07-01</td>\n      <td>TWOU</td>\n      <td>NASDAQ</td>\n      <td>2U INC</td>\n      <td>NaN</td>\n      <td>NaN</td>\n      <td>NaN</td>\n      <td>NaN</td>\n      <td>0.309504</td>\n      <td>0.319239</td>\n      <td>...</td>\n      <td>US90214J1016</td>\n      <td>11.0700</td>\n      <td>2022-07-20</td>\n      <td>90214J101</td>\n      <td>Consumer Defensive</td>\n      <td>Education &amp; Training Services</td>\n      <td>Information Technology</td>\n      <td>Software &amp; Services</td>\n      <td>Software</td>\n      <td>Application Software</td>\n    </tr>\n    <tr>\n      <th>2</th>\n      <td>2017-07-01</td>\n      <td>DDDX</td>\n      <td>PINK</td>\n      <td>3DX INDUSTRIES INC</td>\n      <td>NaN</td>\n      <td>NaN</td>\n      <td>NaN</td>\n      <td>NaN</td>\n      <td>-0.449226</td>\n      <td>-0.649688</td>\n      <td>...</td>\n      <td>US88556A1007</td>\n      <td>0.0595</td>\n      <td>2022-07-20</td>\n      <td>NaN</td>\n      <td>NaN</td>\n      <td>NaN</td>\n      <td>NaN</td>\n      <td>NaN</td>\n      <td>NaN</td>\n      <td>NaN</td>\n    </tr>\n    <tr>\n      <th>3</th>\n      <td>2017-07-01</td>\n      <td>MMM</td>\n      <td>US Exchange</td>\n      <td>3M CO</td>\n      <td>NaN</td>\n      <td>NaN</td>\n      <td>NaN</td>\n      <td>NaN</td>\n      <td>0.376139</td>\n      <td>0.301416</td>\n      <td>...</td>\n      <td>US88579Y1010</td>\n      <td>133.0100</td>\n      <td>2022-07-20</td>\n      <td>604059105</td>\n      <td>Industrials</td>\n      <td>Conglomerates</td>\n      <td>Industrials</td>\n      <td>Capital Goods</td>\n      <td>Industrial Conglomerates</td>\n      <td>Industrial Conglomerates</td>\n    </tr>\n    <tr>\n      <th>4</th>\n      <td>2017-07-01</td>\n      <td>88E</td>\n      <td>LSE</td>\n      <td>88 ENERGY LTD</td>\n      <td>NaN</td>\n      <td>NaN</td>\n      <td>NaN</td>\n      <td>NaN</td>\n      <td>0.639011</td>\n      <td>0.822957</td>\n      <td>...</td>\n      <td>AU00000088E2</td>\n      <td>0.7250</td>\n      <td>2022-07-20</td>\n      <td>NaN</td>\n      <td>NaN</td>\n      <td>NaN</td>\n      <td>NaN</td>\n      <td>NaN</td>\n      <td>NaN</td>\n      <td>NaN</td>\n    </tr>\n    <tr>\n      <th>...</th>\n      <td>...</td>\n      <td>...</td>\n      <td>...</td>\n      <td>...</td>\n      <td>...</td>\n      <td>...</td>\n      <td>...</td>\n      <td>...</td>\n      <td>...</td>\n      <td>...</td>\n      <td>...</td>\n      <td>...</td>\n      <td>...</td>\n      <td>...</td>\n      <td>...</td>\n      <td>...</td>\n      <td>...</td>\n      <td>...</td>\n      <td>...</td>\n      <td>...</td>\n      <td>...</td>\n    </tr>\n    <tr>\n      <th>17949</th>\n      <td>2017-07-01</td>\n      <td>ZYNE</td>\n      <td>NASDAQ</td>\n      <td>ZYNERBA PHARMACEUTICALS INC</td>\n      <td>0.534073</td>\n      <td>0.534132</td>\n      <td>0.448869</td>\n      <td>0.505691</td>\n      <td>-0.025743</td>\n      <td>0.105700</td>\n      <td>...</td>\n      <td>US98986X1090</td>\n      <td>1.1500</td>\n      <td>2022-07-20</td>\n      <td>NaN</td>\n      <td>NaN</td>\n      <td>NaN</td>\n      <td>NaN</td>\n      <td>NaN</td>\n      <td>NaN</td>\n      <td>NaN</td>\n    </tr>\n    <tr>\n      <th>17950</th>\n      <td>2017-07-01</td>\n      <td>ZYXI</td>\n      <td>NASDAQ</td>\n      <td>ZYNEX INC</td>\n      <td>NaN</td>\n      <td>NaN</td>\n      <td>NaN</td>\n      <td>NaN</td>\n      <td>0.194208</td>\n      <td>0.217249</td>\n      <td>...</td>\n      <td>US98986M1036</td>\n      <td>7.6300</td>\n      <td>2022-07-20</td>\n      <td>NaN</td>\n      <td>NaN</td>\n      <td>NaN</td>\n      <td>NaN</td>\n      <td>NaN</td>\n      <td>NaN</td>\n      <td>NaN</td>\n    </tr>\n    <tr>\n      <th>17951</th>\n      <td>2017-07-01</td>\n      <td>ZNGA</td>\n      <td>NASDAQ</td>\n      <td>ZYNGA INC - CL A</td>\n      <td>-0.877308</td>\n      <td>-1.913663</td>\n      <td>-1.934595</td>\n      <td>-1.575189</td>\n      <td>-0.932901</td>\n      <td>-0.896336</td>\n      <td>...</td>\n      <td>NaN</td>\n      <td>NaN</td>\n      <td>NaN</td>\n      <td>NaN</td>\n      <td>NaN</td>\n      <td>NaN</td>\n      <td>NaN</td>\n      <td>NaN</td>\n      <td>NaN</td>\n      <td>NaN</td>\n    </tr>\n    <tr>\n      <th>17952</th>\n      <td>2017-07-01</td>\n      <td>ZYT</td>\n      <td>LSE</td>\n      <td>ZYTRONIC PLC</td>\n      <td>NaN</td>\n      <td>NaN</td>\n      <td>NaN</td>\n      <td>NaN</td>\n      <td>NaN</td>\n      <td>NaN</td>\n      <td>...</td>\n      <td>GB0006971013</td>\n      <td>130.0000</td>\n      <td>2022-07-20</td>\n      <td>NaN</td>\n      <td>NaN</td>\n      <td>NaN</td>\n      <td>NaN</td>\n      <td>NaN</td>\n      <td>NaN</td>\n      <td>NaN</td>\n    </tr>\n    <tr>\n      <th>17953</th>\n      <td>2017-07-01</td>\n      <td>8295</td>\n      <td>SEHK</td>\n      <td>ZZ CAPITAL INTERNATIONAL LTD</td>\n      <td>NaN</td>\n      <td>NaN</td>\n      <td>NaN</td>\n      <td>NaN</td>\n      <td>0.031431</td>\n      <td>0.024081</td>\n      <td>...</td>\n      <td>NaN</td>\n      <td>1.8700</td>\n      <td>2022-07-20</td>\n      <td>NaN</td>\n      <td>NaN</td>\n      <td>NaN</td>\n      <td>NaN</td>\n      <td>NaN</td>\n      <td>NaN</td>\n      <td>NaN</td>\n    </tr>\n  </tbody>\n</table>\n<p>17954 rows × 55 columns</p>\n</div>"
     },
     "execution_count": 7,
     "metadata": {},
     "output_type": "execute_result"
    }
   ],
   "source": [
    "data"
   ],
   "metadata": {
    "collapsed": false,
    "pycharm": {
     "name": "#%%\n"
    }
   }
  },
  {
   "cell_type": "code",
   "execution_count": 9,
   "outputs": [
    {
     "data": {
      "text/plain": "Index(['Timestamp', 'Ticker', 'Exchange', 'Company_Name', 'E', 'S', 'G',\n       'ESG_Mean', 'STS_E', 'STS_S', 'STS_G', 'ESG_STS_Mean', 'LTS_E', 'LTS_S',\n       'LTS_G', 'ESG_LTS_Mean', 'Country', 'IB-industry', 'IB-longName',\n       'IB-marketName', 'IB-ISIN', 'IB-Symbol', 'isindb-Title', 'isindb-ISIN',\n       'isindb-Country', 'isindb-Description', 'isindb-Type',\n       'OpenFigi-OpenFigi-figi', 'OpenFigi-OpenFigi-name',\n       'OpenFigi-OpenFigi-ticker', 'OpenFigi-OpenFigi-exchCode',\n       'OpenFigi-OpenFigi-compositeFIGI', 'OpenFigi-OpenFigi-securityType',\n       'OpenFigi-OpenFigi-marketSector', 'OpenFigi-OpenFigi-shareClassFIGI',\n       'OpenFigi-OpenFigi-securityType2',\n       'OpenFigi-OpenFigi-securityDescription', 'OpenFigi-OpenFigi-uniqueID',\n       'OpenFigi-OpenFigi-uniqueIDFutOpt', 'EOD-Code', 'EOD-Exchange',\n       'EOD-Name', 'EOD-Type', 'EOD-Country', 'EOD-Currency', 'EOD-ISIN',\n       'EOD-previousClose', 'EOD-previousCloseDate', 'EOD-CUSIP', 'EOD-Sector',\n       'EOD-Industry', 'EOD-GicSector', 'EOD-GicGroup', 'EOD-GicIndustry',\n       'EOD-GicSubIndustry'],\n      dtype='object')"
     },
     "execution_count": 9,
     "metadata": {},
     "output_type": "execute_result"
    }
   ],
   "source": [
    "data.columns"
   ],
   "metadata": {
    "collapsed": false,
    "pycharm": {
     "name": "#%%\n"
    }
   }
  },
  {
   "cell_type": "code",
   "execution_count": 10,
   "outputs": [],
   "source": [
    "data.to_csv('stockmetadata_Abhir.csv',index=False)"
   ],
   "metadata": {
    "collapsed": false,
    "pycharm": {
     "name": "#%%\n"
    }
   }
  },
  {
   "cell_type": "code",
   "execution_count": 32,
   "outputs": [],
   "source": [
    "data[\"IBCompare\"]=np.select([data[\"Company_Name\"]==data[\"IB-longName\"],data[\"Company_Name\"]!=data[\"IB-longName\"]],[\"Match\",\"Mismatch or NA\"])\n",
    "data[\"EODCompare\"]=np.select([data[\"Ticker\"]==data[\"EOD-Code\"],data[\"Ticker\"]!=data[\"EOD-Code\"]],[\"Match\",\"Mismatch or NA\"])\n",
    "data[\"FIGICompare\"]=np.select([data[\"Company_Name\"]==data[\"OpenFigi-OpenFigi-name\"],data[\"Company_Name\"]!=data[\"OpenFigi-OpenFigi-name\"]],[\"Match\",\"Mismatch or NA\"])\n",
    "data[\"ISINdbCompare\"]=np.select([data[\"IB-ISIN\"]==data[\"isindb-ISIN\"],data[\"IB-ISIN\"]!=data[\"isindb-ISIN\"]],[\"Match\",\"Mismatch or NA\"])"
   ],
   "metadata": {
    "collapsed": false,
    "pycharm": {
     "name": "#%%\n"
    }
   }
  },
  {
   "cell_type": "code",
   "execution_count": 12,
   "outputs": [
    {
     "data": {
      "text/plain": "        Timestamp Ticker     Exchange                  Company_Name         E  \\\n0      2017-07-01    1ST          ASX                 1ST GROUP LTD       NaN   \n1      2017-07-01   TWOU       NASDAQ                        2U INC       NaN   \n2      2017-07-01   DDDX         PINK            3DX INDUSTRIES INC       NaN   \n3      2017-07-01    MMM  US Exchange                         3M CO       NaN   \n4      2017-07-01    88E          LSE                 88 ENERGY LTD       NaN   \n...           ...    ...          ...                           ...       ...   \n17949  2017-07-01   ZYNE       NASDAQ   ZYNERBA PHARMACEUTICALS INC  0.534073   \n17950  2017-07-01   ZYXI       NASDAQ                     ZYNEX INC       NaN   \n17951  2017-07-01   ZNGA       NASDAQ              ZYNGA INC - CL A -0.877308   \n17952  2017-07-01    ZYT          LSE                  ZYTRONIC PLC       NaN   \n17953  2017-07-01   8295         SEHK  ZZ CAPITAL INTERNATIONAL LTD       NaN   \n\n              S         G  ESG_Mean     STS_E     STS_S  ...  \\\n0           NaN       NaN       NaN  0.632268  0.443666  ...   \n1           NaN       NaN       NaN  0.309504  0.319239  ...   \n2           NaN       NaN       NaN -0.449226 -0.649688  ...   \n3           NaN       NaN       NaN  0.376139  0.301416  ...   \n4           NaN       NaN       NaN  0.639011  0.822957  ...   \n...         ...       ...       ...       ...       ...  ...   \n17949  0.534132  0.448869  0.505691 -0.025743  0.105700  ...   \n17950       NaN       NaN       NaN  0.194208  0.217249  ...   \n17951 -1.913663 -1.934595 -1.575189 -0.932901 -0.896336  ...   \n17952       NaN       NaN       NaN       NaN       NaN  ...   \n17953       NaN       NaN       NaN  0.031431  0.024081  ...   \n\n               EOD-Sector                   EOD-Industry  \\\n0                     NaN                            NaN   \n1      Consumer Defensive  Education & Training Services   \n2                     NaN                            NaN   \n3             Industrials                  Conglomerates   \n4                     NaN                            NaN   \n...                   ...                            ...   \n17949                 NaN                            NaN   \n17950                 NaN                            NaN   \n17951                 NaN                            NaN   \n17952                 NaN                            NaN   \n17953                 NaN                            NaN   \n\n                EOD-GicSector         EOD-GicGroup           EOD-GicIndustry  \\\n0                         NaN                  NaN                       NaN   \n1      Information Technology  Software & Services                  Software   \n2                         NaN                  NaN                       NaN   \n3                 Industrials        Capital Goods  Industrial Conglomerates   \n4                         NaN                  NaN                       NaN   \n...                       ...                  ...                       ...   \n17949                     NaN                  NaN                       NaN   \n17950                     NaN                  NaN                       NaN   \n17951                     NaN                  NaN                       NaN   \n17952                     NaN                  NaN                       NaN   \n17953                     NaN                  NaN                       NaN   \n\n             EOD-GicSubIndustry       IBCompare      EODCompare  \\\n0                           NaN           Match           Match   \n1          Application Software           Match           Match   \n2                           NaN           Match           Match   \n3      Industrial Conglomerates           Match           Match   \n4                           NaN           Match           Match   \n...                         ...             ...             ...   \n17949                       NaN           Match           Match   \n17950                       NaN           Match           Match   \n17951                       NaN           Match  Mismatch or NA   \n17952                       NaN           Match           Match   \n17953                       NaN  Mismatch or NA  Mismatch or NA   \n\n          FIGICompare   ISINdbCompare  \n0               Match  Mismatch or NA  \n1               Match  Mismatch or NA  \n2               Match  Mismatch or NA  \n3               Match           Match  \n4               Match  Mismatch or NA  \n...               ...             ...  \n17949           Match  Mismatch or NA  \n17950           Match  Mismatch or NA  \n17951           Match           Match  \n17952           Match           Match  \n17953  Mismatch or NA  Mismatch or NA  \n\n[17954 rows x 59 columns]",
      "text/html": "<div>\n<style scoped>\n    .dataframe tbody tr th:only-of-type {\n        vertical-align: middle;\n    }\n\n    .dataframe tbody tr th {\n        vertical-align: top;\n    }\n\n    .dataframe thead th {\n        text-align: right;\n    }\n</style>\n<table border=\"1\" class=\"dataframe\">\n  <thead>\n    <tr style=\"text-align: right;\">\n      <th></th>\n      <th>Timestamp</th>\n      <th>Ticker</th>\n      <th>Exchange</th>\n      <th>Company_Name</th>\n      <th>E</th>\n      <th>S</th>\n      <th>G</th>\n      <th>ESG_Mean</th>\n      <th>STS_E</th>\n      <th>STS_S</th>\n      <th>...</th>\n      <th>EOD-Sector</th>\n      <th>EOD-Industry</th>\n      <th>EOD-GicSector</th>\n      <th>EOD-GicGroup</th>\n      <th>EOD-GicIndustry</th>\n      <th>EOD-GicSubIndustry</th>\n      <th>IBCompare</th>\n      <th>EODCompare</th>\n      <th>FIGICompare</th>\n      <th>ISINdbCompare</th>\n    </tr>\n  </thead>\n  <tbody>\n    <tr>\n      <th>0</th>\n      <td>2017-07-01</td>\n      <td>1ST</td>\n      <td>ASX</td>\n      <td>1ST GROUP LTD</td>\n      <td>NaN</td>\n      <td>NaN</td>\n      <td>NaN</td>\n      <td>NaN</td>\n      <td>0.632268</td>\n      <td>0.443666</td>\n      <td>...</td>\n      <td>NaN</td>\n      <td>NaN</td>\n      <td>NaN</td>\n      <td>NaN</td>\n      <td>NaN</td>\n      <td>NaN</td>\n      <td>Match</td>\n      <td>Match</td>\n      <td>Match</td>\n      <td>Mismatch or NA</td>\n    </tr>\n    <tr>\n      <th>1</th>\n      <td>2017-07-01</td>\n      <td>TWOU</td>\n      <td>NASDAQ</td>\n      <td>2U INC</td>\n      <td>NaN</td>\n      <td>NaN</td>\n      <td>NaN</td>\n      <td>NaN</td>\n      <td>0.309504</td>\n      <td>0.319239</td>\n      <td>...</td>\n      <td>Consumer Defensive</td>\n      <td>Education &amp; Training Services</td>\n      <td>Information Technology</td>\n      <td>Software &amp; Services</td>\n      <td>Software</td>\n      <td>Application Software</td>\n      <td>Match</td>\n      <td>Match</td>\n      <td>Match</td>\n      <td>Mismatch or NA</td>\n    </tr>\n    <tr>\n      <th>2</th>\n      <td>2017-07-01</td>\n      <td>DDDX</td>\n      <td>PINK</td>\n      <td>3DX INDUSTRIES INC</td>\n      <td>NaN</td>\n      <td>NaN</td>\n      <td>NaN</td>\n      <td>NaN</td>\n      <td>-0.449226</td>\n      <td>-0.649688</td>\n      <td>...</td>\n      <td>NaN</td>\n      <td>NaN</td>\n      <td>NaN</td>\n      <td>NaN</td>\n      <td>NaN</td>\n      <td>NaN</td>\n      <td>Match</td>\n      <td>Match</td>\n      <td>Match</td>\n      <td>Mismatch or NA</td>\n    </tr>\n    <tr>\n      <th>3</th>\n      <td>2017-07-01</td>\n      <td>MMM</td>\n      <td>US Exchange</td>\n      <td>3M CO</td>\n      <td>NaN</td>\n      <td>NaN</td>\n      <td>NaN</td>\n      <td>NaN</td>\n      <td>0.376139</td>\n      <td>0.301416</td>\n      <td>...</td>\n      <td>Industrials</td>\n      <td>Conglomerates</td>\n      <td>Industrials</td>\n      <td>Capital Goods</td>\n      <td>Industrial Conglomerates</td>\n      <td>Industrial Conglomerates</td>\n      <td>Match</td>\n      <td>Match</td>\n      <td>Match</td>\n      <td>Match</td>\n    </tr>\n    <tr>\n      <th>4</th>\n      <td>2017-07-01</td>\n      <td>88E</td>\n      <td>LSE</td>\n      <td>88 ENERGY LTD</td>\n      <td>NaN</td>\n      <td>NaN</td>\n      <td>NaN</td>\n      <td>NaN</td>\n      <td>0.639011</td>\n      <td>0.822957</td>\n      <td>...</td>\n      <td>NaN</td>\n      <td>NaN</td>\n      <td>NaN</td>\n      <td>NaN</td>\n      <td>NaN</td>\n      <td>NaN</td>\n      <td>Match</td>\n      <td>Match</td>\n      <td>Match</td>\n      <td>Mismatch or NA</td>\n    </tr>\n    <tr>\n      <th>...</th>\n      <td>...</td>\n      <td>...</td>\n      <td>...</td>\n      <td>...</td>\n      <td>...</td>\n      <td>...</td>\n      <td>...</td>\n      <td>...</td>\n      <td>...</td>\n      <td>...</td>\n      <td>...</td>\n      <td>...</td>\n      <td>...</td>\n      <td>...</td>\n      <td>...</td>\n      <td>...</td>\n      <td>...</td>\n      <td>...</td>\n      <td>...</td>\n      <td>...</td>\n      <td>...</td>\n    </tr>\n    <tr>\n      <th>17949</th>\n      <td>2017-07-01</td>\n      <td>ZYNE</td>\n      <td>NASDAQ</td>\n      <td>ZYNERBA PHARMACEUTICALS INC</td>\n      <td>0.534073</td>\n      <td>0.534132</td>\n      <td>0.448869</td>\n      <td>0.505691</td>\n      <td>-0.025743</td>\n      <td>0.105700</td>\n      <td>...</td>\n      <td>NaN</td>\n      <td>NaN</td>\n      <td>NaN</td>\n      <td>NaN</td>\n      <td>NaN</td>\n      <td>NaN</td>\n      <td>Match</td>\n      <td>Match</td>\n      <td>Match</td>\n      <td>Mismatch or NA</td>\n    </tr>\n    <tr>\n      <th>17950</th>\n      <td>2017-07-01</td>\n      <td>ZYXI</td>\n      <td>NASDAQ</td>\n      <td>ZYNEX INC</td>\n      <td>NaN</td>\n      <td>NaN</td>\n      <td>NaN</td>\n      <td>NaN</td>\n      <td>0.194208</td>\n      <td>0.217249</td>\n      <td>...</td>\n      <td>NaN</td>\n      <td>NaN</td>\n      <td>NaN</td>\n      <td>NaN</td>\n      <td>NaN</td>\n      <td>NaN</td>\n      <td>Match</td>\n      <td>Match</td>\n      <td>Match</td>\n      <td>Mismatch or NA</td>\n    </tr>\n    <tr>\n      <th>17951</th>\n      <td>2017-07-01</td>\n      <td>ZNGA</td>\n      <td>NASDAQ</td>\n      <td>ZYNGA INC - CL A</td>\n      <td>-0.877308</td>\n      <td>-1.913663</td>\n      <td>-1.934595</td>\n      <td>-1.575189</td>\n      <td>-0.932901</td>\n      <td>-0.896336</td>\n      <td>...</td>\n      <td>NaN</td>\n      <td>NaN</td>\n      <td>NaN</td>\n      <td>NaN</td>\n      <td>NaN</td>\n      <td>NaN</td>\n      <td>Match</td>\n      <td>Mismatch or NA</td>\n      <td>Match</td>\n      <td>Match</td>\n    </tr>\n    <tr>\n      <th>17952</th>\n      <td>2017-07-01</td>\n      <td>ZYT</td>\n      <td>LSE</td>\n      <td>ZYTRONIC PLC</td>\n      <td>NaN</td>\n      <td>NaN</td>\n      <td>NaN</td>\n      <td>NaN</td>\n      <td>NaN</td>\n      <td>NaN</td>\n      <td>...</td>\n      <td>NaN</td>\n      <td>NaN</td>\n      <td>NaN</td>\n      <td>NaN</td>\n      <td>NaN</td>\n      <td>NaN</td>\n      <td>Match</td>\n      <td>Match</td>\n      <td>Match</td>\n      <td>Match</td>\n    </tr>\n    <tr>\n      <th>17953</th>\n      <td>2017-07-01</td>\n      <td>8295</td>\n      <td>SEHK</td>\n      <td>ZZ CAPITAL INTERNATIONAL LTD</td>\n      <td>NaN</td>\n      <td>NaN</td>\n      <td>NaN</td>\n      <td>NaN</td>\n      <td>0.031431</td>\n      <td>0.024081</td>\n      <td>...</td>\n      <td>NaN</td>\n      <td>NaN</td>\n      <td>NaN</td>\n      <td>NaN</td>\n      <td>NaN</td>\n      <td>NaN</td>\n      <td>Mismatch or NA</td>\n      <td>Mismatch or NA</td>\n      <td>Mismatch or NA</td>\n      <td>Mismatch or NA</td>\n    </tr>\n  </tbody>\n</table>\n<p>17954 rows × 59 columns</p>\n</div>"
     },
     "execution_count": 12,
     "metadata": {},
     "output_type": "execute_result"
    }
   ],
   "source": [
    "data"
   ],
   "metadata": {
    "collapsed": false,
    "pycharm": {
     "name": "#%%\n"
    }
   }
  },
  {
   "cell_type": "code",
   "execution_count": 19,
   "outputs": [
    {
     "data": {
      "text/plain": "Match             15463\nMismatch or NA     2491\nName: IBCompare, dtype: int64"
     },
     "execution_count": 19,
     "metadata": {},
     "output_type": "execute_result"
    }
   ],
   "source": [
    "data['IBCompare'].value_counts()"
   ],
   "metadata": {
    "collapsed": false,
    "pycharm": {
     "name": "#%%\n"
    }
   }
  },
  {
   "cell_type": "code",
   "execution_count": 34,
   "outputs": [
    {
     "data": {
      "text/plain": "Match             10711\nMismatch or NA     7243\nName: EODCompare, dtype: int64"
     },
     "execution_count": 34,
     "metadata": {},
     "output_type": "execute_result"
    }
   ],
   "source": [
    "data['EODCompare'].value_counts()"
   ],
   "metadata": {
    "collapsed": false,
    "pycharm": {
     "name": "#%%\n"
    }
   }
  },
  {
   "cell_type": "code",
   "execution_count": 21,
   "outputs": [
    {
     "data": {
      "text/plain": "Match             13208\nMismatch or NA     4746\nName: FIGICompare, dtype: int64"
     },
     "execution_count": 21,
     "metadata": {},
     "output_type": "execute_result"
    }
   ],
   "source": [
    "data[\"FIGICompare\"].value_counts()"
   ],
   "metadata": {
    "collapsed": false,
    "pycharm": {
     "name": "#%%\n"
    }
   }
  },
  {
   "cell_type": "code",
   "execution_count": 22,
   "outputs": [
    {
     "data": {
      "text/plain": "Mismatch or NA    9995\nMatch             7959\nName: ISINdbCompare, dtype: int64"
     },
     "execution_count": 22,
     "metadata": {},
     "output_type": "execute_result"
    }
   ],
   "source": [
    "data[\"ISINdbCompare\"].value_counts()"
   ],
   "metadata": {
    "collapsed": false,
    "pycharm": {
     "name": "#%%\n"
    }
   }
  }
 ],
 "metadata": {
  "kernelspec": {
   "display_name": "Python 3",
   "language": "python",
   "name": "python3"
  },
  "language_info": {
   "codemirror_mode": {
    "name": "ipython",
    "version": 2
   },
   "file_extension": ".py",
   "mimetype": "text/x-python",
   "name": "python",
   "nbconvert_exporter": "python",
   "pygments_lexer": "ipython2",
   "version": "2.7.6"
  }
 },
 "nbformat": 4,
 "nbformat_minor": 0
}