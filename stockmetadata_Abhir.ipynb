{
 "cells": [
  {
   "cell_type": "code",
   "execution_count": 2,
   "outputs": [],
   "source": [
    "import pandas as pd"
   ],
   "metadata": {
    "collapsed": false,
    "pycharm": {
     "name": "#%%\n"
    }
   }
  },
  {
   "cell_type": "code",
   "execution_count": 3,
   "outputs": [],
   "source": [
    "data =pd.read_csv('Global_ESG_Jul17_Jun20.csv')\n",
    "ibdata= pd.read_csv('ibdata_Abhir.csv')\n",
    "eoddata = pd.read_csv('eoddata_Abhir.csv')\n",
    "figidata =pd.read_csv('openfigidata_Abhir.csv')"
   ],
   "metadata": {
    "collapsed": false,
    "pycharm": {
     "name": "#%%\n"
    }
   }
  },
  {
   "cell_type": "code",
   "execution_count": 4,
   "outputs": [],
   "source": [
    "ibdata= pd.read_csv('ibdata_Abhir.csv')\n",
    "ibdata=ibdata.drop(columns=\"Unnamed: 0\")\n",
    "figidata=figidata.drop(columns=\"Unnamed: 0\")\n",
    "figidata=figidata.dropna(subset=['OpenFigi-OpenFigi-figi'])\n",
    "data=data.drop_duplicates(subset=['Ticker'])"
   ],
   "metadata": {
    "collapsed": false,
    "pycharm": {
     "name": "#%%\n"
    }
   }
  },
  {
   "cell_type": "code",
   "execution_count": 5,
   "outputs": [],
   "source": [
    "df=pd.merge(data,ibdata,left_on=\"Ticker\",right_on=\"IB-Symbol\")\n",
    "df=pd.merge(df,eoddata,left_on=\"IB-ISIN\",right_on=\"EOD-ISIN\")\n",
    "df=pd.merge(df,figidata,left_on=\"Ticker\",right_on=\"OpenFigi-OpenFigi-ticker\")"
   ],
   "metadata": {
    "collapsed": false,
    "pycharm": {
     "name": "#%%\n"
    }
   }
  },
  {
   "cell_type": "code",
   "execution_count": 7,
   "outputs": [
    {
     "data": {
      "text/plain": "        Timestamp  Ticker  Exchange                 Company_Name         E  \\\n29533  2017-07-01  000001  SEHKSZSE        PING AN BANK CO LTD-A       NaN   \n10593  2017-07-01  000002  SEHKSZSE        CHINA VANKE CO LTD -A       NaN   \n33338  2017-07-01  000006  SEHKSZSE   SHENZHEN ZHENYE GROUP CO-A       NaN   \n10322  2017-07-01  000009  SEHKSZSE          CHINA BAOAN GROUP-A       NaN   \n11850  2017-07-01  000012  SEHKSZSE        CSG HOLDING CO LTD- A       NaN   \n...           ...     ...       ...                          ...       ...   \n38777  2017-07-01   ZWACK       BUX              ZWACK UNICUM RT       NaN   \n38778  2017-07-01    ZYME      NYSE                ZYMEWORKS INC       NaN   \n38779  2017-07-01    ZYNE    NASDAQ  ZYNERBA PHARMACEUTICALS INC  0.534073   \n38781  2017-07-01     ZYT       LSE                 ZYTRONIC PLC       NaN   \n38780  2017-07-01    ZYXI    NASDAQ                    ZYNEX INC       NaN   \n\n              S         G  ESG_Mean     STS_E     STS_S  ...  \\\n29533       NaN       NaN       NaN  0.173876  0.111167  ...   \n10593       NaN       NaN       NaN  0.023373 -0.032501  ...   \n33338       NaN       NaN       NaN  0.000000  0.025081  ...   \n10322       NaN       NaN       NaN  0.000000  0.044162  ...   \n11850       NaN       NaN       NaN  0.676082  0.684169  ...   \n...         ...       ...       ...       ...       ...  ...   \n38777       NaN       NaN       NaN  0.510725  0.704292  ...   \n38778       NaN       NaN       NaN -0.079735 -0.047253  ...   \n38779  0.534132  0.448869  0.505691 -0.025743  0.105700  ...   \n38781       NaN       NaN       NaN       NaN       NaN  ...   \n38780       NaN       NaN       NaN  0.194208  0.217249  ...   \n\n       OpenFigi-OpenFigi-ticker  OpenFigi-OpenFigi-exchCode  \\\n29533                    000001                          CH   \n10593                    000002                          CH   \n33338                    000006                          CH   \n10322                    000009                          CH   \n11850                    000012                          CH   \n...                         ...                         ...   \n38777                     ZWACK                          HB   \n38778                      ZYME                          US   \n38779                      ZYNE                          US   \n38781                       ZYT                          LN   \n38780                      ZYXI                          US   \n\n       OpenFigi-OpenFigi-compositeFIGI  OpenFigi-OpenFigi-securityType  \\\n29533                     BBG000BZDPV5                    Common Stock   \n10593                     BBG000BZ9Z48                    Common Stock   \n33338                     BBG000BZFR12                    Common Stock   \n10322                     BBG000BZDL53                    Common Stock   \n11850                     BBG000BZ9JN3                    Common Stock   \n...                                ...                             ...   \n38777                     BBG000BJC779                    Common Stock   \n38778                     BBG00GD15LJ5                    Common Stock   \n38779                     BBG007BBS8B7                    Common Stock   \n38781                     BBG000BZPTJ8                    Common Stock   \n38780                     BBG000BJBXZ2                    Common Stock   \n\n       OpenFigi-OpenFigi-marketSector  OpenFigi-OpenFigi-shareClassFIGI  \\\n29533                          Equity                      BBG001SJWM47   \n10593                          Equity                      BBG001SJW9Q2   \n33338                          Equity                      BBG001SJWNW4   \n10322                          Equity                      BBG001SJWM01   \n11850                          Equity                      BBG001SJW8W7   \n...                               ...                               ...   \n38777                          Equity                      BBG001S7H5M7   \n38778                          Equity                      BBG00247P1W0   \n38779                          Equity                      BBG007BBS8C6   \n38781                          Equity                      BBG001SFLP13   \n38780                          Equity                      BBG001S7T7V0   \n\n      OpenFigi-OpenFigi-securityType2 OpenFigi-OpenFigi-securityDescription  \\\n29533                    Common Stock                                000001   \n10593                    Common Stock                                000002   \n33338                    Common Stock                                000006   \n10322                    Common Stock                                000009   \n11850                    Common Stock                                000012   \n...                               ...                                   ...   \n38777                    Common Stock                                 ZWACK   \n38778                    Common Stock                                  ZYME   \n38779                    Common Stock                                  ZYNE   \n38781                    Common Stock                                   ZYT   \n38780                    Common Stock                                  ZYXI   \n\n      OpenFigi-OpenFigi-uniqueID OpenFigi-OpenFigi-uniqueIDFutOpt  \n29533                        NaN                              NaN  \n10593                        NaN                              NaN  \n33338                        NaN                              NaN  \n10322                        NaN                              NaN  \n11850                        NaN                              NaN  \n...                          ...                              ...  \n38777                        NaN                              NaN  \n38778                        NaN                              NaN  \n38779                        NaN                              NaN  \n38781                        NaN                              NaN  \n38780                        NaN                              NaN  \n\n[38783 rows x 50 columns]",
      "text/html": "<div>\n<style scoped>\n    .dataframe tbody tr th:only-of-type {\n        vertical-align: middle;\n    }\n\n    .dataframe tbody tr th {\n        vertical-align: top;\n    }\n\n    .dataframe thead th {\n        text-align: right;\n    }\n</style>\n<table border=\"1\" class=\"dataframe\">\n  <thead>\n    <tr style=\"text-align: right;\">\n      <th></th>\n      <th>Timestamp</th>\n      <th>Ticker</th>\n      <th>Exchange</th>\n      <th>Company_Name</th>\n      <th>E</th>\n      <th>S</th>\n      <th>G</th>\n      <th>ESG_Mean</th>\n      <th>STS_E</th>\n      <th>STS_S</th>\n      <th>...</th>\n      <th>OpenFigi-OpenFigi-ticker</th>\n      <th>OpenFigi-OpenFigi-exchCode</th>\n      <th>OpenFigi-OpenFigi-compositeFIGI</th>\n      <th>OpenFigi-OpenFigi-securityType</th>\n      <th>OpenFigi-OpenFigi-marketSector</th>\n      <th>OpenFigi-OpenFigi-shareClassFIGI</th>\n      <th>OpenFigi-OpenFigi-securityType2</th>\n      <th>OpenFigi-OpenFigi-securityDescription</th>\n      <th>OpenFigi-OpenFigi-uniqueID</th>\n      <th>OpenFigi-OpenFigi-uniqueIDFutOpt</th>\n    </tr>\n  </thead>\n  <tbody>\n    <tr>\n      <th>29533</th>\n      <td>2017-07-01</td>\n      <td>000001</td>\n      <td>SEHKSZSE</td>\n      <td>PING AN BANK CO LTD-A</td>\n      <td>NaN</td>\n      <td>NaN</td>\n      <td>NaN</td>\n      <td>NaN</td>\n      <td>0.173876</td>\n      <td>0.111167</td>\n      <td>...</td>\n      <td>000001</td>\n      <td>CH</td>\n      <td>BBG000BZDPV5</td>\n      <td>Common Stock</td>\n      <td>Equity</td>\n      <td>BBG001SJWM47</td>\n      <td>Common Stock</td>\n      <td>000001</td>\n      <td>NaN</td>\n      <td>NaN</td>\n    </tr>\n    <tr>\n      <th>10593</th>\n      <td>2017-07-01</td>\n      <td>000002</td>\n      <td>SEHKSZSE</td>\n      <td>CHINA VANKE CO LTD -A</td>\n      <td>NaN</td>\n      <td>NaN</td>\n      <td>NaN</td>\n      <td>NaN</td>\n      <td>0.023373</td>\n      <td>-0.032501</td>\n      <td>...</td>\n      <td>000002</td>\n      <td>CH</td>\n      <td>BBG000BZ9Z48</td>\n      <td>Common Stock</td>\n      <td>Equity</td>\n      <td>BBG001SJW9Q2</td>\n      <td>Common Stock</td>\n      <td>000002</td>\n      <td>NaN</td>\n      <td>NaN</td>\n    </tr>\n    <tr>\n      <th>33338</th>\n      <td>2017-07-01</td>\n      <td>000006</td>\n      <td>SEHKSZSE</td>\n      <td>SHENZHEN ZHENYE GROUP CO-A</td>\n      <td>NaN</td>\n      <td>NaN</td>\n      <td>NaN</td>\n      <td>NaN</td>\n      <td>0.000000</td>\n      <td>0.025081</td>\n      <td>...</td>\n      <td>000006</td>\n      <td>CH</td>\n      <td>BBG000BZFR12</td>\n      <td>Common Stock</td>\n      <td>Equity</td>\n      <td>BBG001SJWNW4</td>\n      <td>Common Stock</td>\n      <td>000006</td>\n      <td>NaN</td>\n      <td>NaN</td>\n    </tr>\n    <tr>\n      <th>10322</th>\n      <td>2017-07-01</td>\n      <td>000009</td>\n      <td>SEHKSZSE</td>\n      <td>CHINA BAOAN GROUP-A</td>\n      <td>NaN</td>\n      <td>NaN</td>\n      <td>NaN</td>\n      <td>NaN</td>\n      <td>0.000000</td>\n      <td>0.044162</td>\n      <td>...</td>\n      <td>000009</td>\n      <td>CH</td>\n      <td>BBG000BZDL53</td>\n      <td>Common Stock</td>\n      <td>Equity</td>\n      <td>BBG001SJWM01</td>\n      <td>Common Stock</td>\n      <td>000009</td>\n      <td>NaN</td>\n      <td>NaN</td>\n    </tr>\n    <tr>\n      <th>11850</th>\n      <td>2017-07-01</td>\n      <td>000012</td>\n      <td>SEHKSZSE</td>\n      <td>CSG HOLDING CO LTD- A</td>\n      <td>NaN</td>\n      <td>NaN</td>\n      <td>NaN</td>\n      <td>NaN</td>\n      <td>0.676082</td>\n      <td>0.684169</td>\n      <td>...</td>\n      <td>000012</td>\n      <td>CH</td>\n      <td>BBG000BZ9JN3</td>\n      <td>Common Stock</td>\n      <td>Equity</td>\n      <td>BBG001SJW8W7</td>\n      <td>Common Stock</td>\n      <td>000012</td>\n      <td>NaN</td>\n      <td>NaN</td>\n    </tr>\n    <tr>\n      <th>...</th>\n      <td>...</td>\n      <td>...</td>\n      <td>...</td>\n      <td>...</td>\n      <td>...</td>\n      <td>...</td>\n      <td>...</td>\n      <td>...</td>\n      <td>...</td>\n      <td>...</td>\n      <td>...</td>\n      <td>...</td>\n      <td>...</td>\n      <td>...</td>\n      <td>...</td>\n      <td>...</td>\n      <td>...</td>\n      <td>...</td>\n      <td>...</td>\n      <td>...</td>\n      <td>...</td>\n    </tr>\n    <tr>\n      <th>38777</th>\n      <td>2017-07-01</td>\n      <td>ZWACK</td>\n      <td>BUX</td>\n      <td>ZWACK UNICUM RT</td>\n      <td>NaN</td>\n      <td>NaN</td>\n      <td>NaN</td>\n      <td>NaN</td>\n      <td>0.510725</td>\n      <td>0.704292</td>\n      <td>...</td>\n      <td>ZWACK</td>\n      <td>HB</td>\n      <td>BBG000BJC779</td>\n      <td>Common Stock</td>\n      <td>Equity</td>\n      <td>BBG001S7H5M7</td>\n      <td>Common Stock</td>\n      <td>ZWACK</td>\n      <td>NaN</td>\n      <td>NaN</td>\n    </tr>\n    <tr>\n      <th>38778</th>\n      <td>2017-07-01</td>\n      <td>ZYME</td>\n      <td>NYSE</td>\n      <td>ZYMEWORKS INC</td>\n      <td>NaN</td>\n      <td>NaN</td>\n      <td>NaN</td>\n      <td>NaN</td>\n      <td>-0.079735</td>\n      <td>-0.047253</td>\n      <td>...</td>\n      <td>ZYME</td>\n      <td>US</td>\n      <td>BBG00GD15LJ5</td>\n      <td>Common Stock</td>\n      <td>Equity</td>\n      <td>BBG00247P1W0</td>\n      <td>Common Stock</td>\n      <td>ZYME</td>\n      <td>NaN</td>\n      <td>NaN</td>\n    </tr>\n    <tr>\n      <th>38779</th>\n      <td>2017-07-01</td>\n      <td>ZYNE</td>\n      <td>NASDAQ</td>\n      <td>ZYNERBA PHARMACEUTICALS INC</td>\n      <td>0.534073</td>\n      <td>0.534132</td>\n      <td>0.448869</td>\n      <td>0.505691</td>\n      <td>-0.025743</td>\n      <td>0.105700</td>\n      <td>...</td>\n      <td>ZYNE</td>\n      <td>US</td>\n      <td>BBG007BBS8B7</td>\n      <td>Common Stock</td>\n      <td>Equity</td>\n      <td>BBG007BBS8C6</td>\n      <td>Common Stock</td>\n      <td>ZYNE</td>\n      <td>NaN</td>\n      <td>NaN</td>\n    </tr>\n    <tr>\n      <th>38781</th>\n      <td>2017-07-01</td>\n      <td>ZYT</td>\n      <td>LSE</td>\n      <td>ZYTRONIC PLC</td>\n      <td>NaN</td>\n      <td>NaN</td>\n      <td>NaN</td>\n      <td>NaN</td>\n      <td>NaN</td>\n      <td>NaN</td>\n      <td>...</td>\n      <td>ZYT</td>\n      <td>LN</td>\n      <td>BBG000BZPTJ8</td>\n      <td>Common Stock</td>\n      <td>Equity</td>\n      <td>BBG001SFLP13</td>\n      <td>Common Stock</td>\n      <td>ZYT</td>\n      <td>NaN</td>\n      <td>NaN</td>\n    </tr>\n    <tr>\n      <th>38780</th>\n      <td>2017-07-01</td>\n      <td>ZYXI</td>\n      <td>NASDAQ</td>\n      <td>ZYNEX INC</td>\n      <td>NaN</td>\n      <td>NaN</td>\n      <td>NaN</td>\n      <td>NaN</td>\n      <td>0.194208</td>\n      <td>0.217249</td>\n      <td>...</td>\n      <td>ZYXI</td>\n      <td>US</td>\n      <td>BBG000BJBXZ2</td>\n      <td>Common Stock</td>\n      <td>Equity</td>\n      <td>BBG001S7T7V0</td>\n      <td>Common Stock</td>\n      <td>ZYXI</td>\n      <td>NaN</td>\n      <td>NaN</td>\n    </tr>\n  </tbody>\n</table>\n<p>38783 rows × 50 columns</p>\n</div>"
     },
     "execution_count": 7,
     "metadata": {},
     "output_type": "execute_result"
    }
   ],
   "source": [
    "df.sort_values([\"Ticker\"])"
   ],
   "metadata": {
    "collapsed": false,
    "pycharm": {
     "name": "#%%\n"
    }
   }
  },
  {
   "cell_type": "code",
   "execution_count": 8,
   "outputs": [],
   "source": [
    "df.to_csv('stockmetadata_Abhir.csv')"
   ],
   "metadata": {
    "collapsed": false,
    "pycharm": {
     "name": "#%%\n"
    }
   }
  }
 ],
 "metadata": {
  "kernelspec": {
   "display_name": "Python 3",
   "language": "python",
   "name": "python3"
  },
  "language_info": {
   "codemirror_mode": {
    "name": "ipython",
    "version": 2
   },
   "file_extension": ".py",
   "mimetype": "text/x-python",
   "name": "python",
   "nbconvert_exporter": "python",
   "pygments_lexer": "ipython2",
   "version": "2.7.6"
  }
 },
 "nbformat": 4,
 "nbformat_minor": 0
}