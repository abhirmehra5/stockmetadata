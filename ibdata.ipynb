{
 "cells": [
  {
   "cell_type": "code",
   "execution_count": 7,
   "outputs": [],
   "source": [
    "import pandas as pd"
   ],
   "metadata": {
    "collapsed": false,
    "pycharm": {
     "name": "#%%\n"
    }
   }
  },
  {
   "cell_type": "code",
   "execution_count": 8,
   "outputs": [],
   "source": [
    "data = pd.read_csv(\"unclean_ibdata.csv\")"
   ],
   "metadata": {
    "collapsed": false,
    "pycharm": {
     "name": "#%%\n"
    }
   }
  },
  {
   "cell_type": "code",
   "execution_count": 9,
   "outputs": [
    {
     "data": {
      "text/plain": "       Unnamed: 0                                           contract  \\\n0               0  {'secType': 'STK', 'conId': 196473646, 'symbol...   \n1               0  {'secType': 'STK', 'conId': 147540466, 'symbol...   \n2               0  {'secType': 'STK', 'conId': 139111268, 'symbol...   \n3               0  {'secType': 'STK', 'conId': 9720, 'symbol': 'M...   \n4               3  {'secType': 'STK', 'conId': 324526941, 'symbol...   \n...           ...                                                ...   \n22739           0  {'secType': 'STK', 'conId': 202225021, 'symbol...   \n22740           0  {'secType': 'STK', 'conId': 52413740, 'symbol'...   \n22741           0  {'secType': 'STK', 'conId': 172604496, 'symbol...   \n22742           0  {'secType': 'STK', 'conId': 300356872, 'symbol...   \n22743           0  {'secType': 'STK', 'conId': 489110466, 'symbol...   \n\n                     industry                     longName marketName  \\\n0              Communications                1ST GROUP LTD        1ST   \n1      Consumer, Non-cyclical                       2U INC        NMS   \n2                  Industrial           3DX INDUSTRIES INC    CURRENT   \n3                  Industrial                        3M CO        MMM   \n4      Consumer, Non-cyclical          MARLEY SPOON AG-CDI        MMM   \n...                       ...                          ...        ...   \n22739  Consumer, Non-cyclical  ZYNERBA PHARMACEUTICALS INC        NMS   \n22740  Consumer, Non-cyclical                    ZYNEX INC        NMS   \n22741              Technology             ZYNGA INC - CL A       ZNGA   \n22742              Industrial                 ZYTRONIC PLC       ASQ1   \n22743               Financial   ZZ TECHNOLOGY GROUP CO LTD       8295   \n\n                                        secIdList  \n0      TagValue(tag='ISIN', value='AU0000001ST0')  \n1      TagValue(tag='ISIN', value='US90214J1016')  \n2      TagValue(tag='ISIN', value='US88556A1007')  \n3      TagValue(tag='ISIN', value='US88579Y1010')  \n4      TagValue(tag='ISIN', value='AU0000013070')  \n...                                           ...  \n22739  TagValue(tag='ISIN', value='US98986X1090')  \n22740  TagValue(tag='ISIN', value='US98986M1036')  \n22741  TagValue(tag='ISIN', value='US98986T1088')  \n22742  TagValue(tag='ISIN', value='GB0006971013')  \n22743  TagValue(tag='ISIN', value='KYG989MR1033')  \n\n[22744 rows x 6 columns]",
      "text/html": "<div>\n<style scoped>\n    .dataframe tbody tr th:only-of-type {\n        vertical-align: middle;\n    }\n\n    .dataframe tbody tr th {\n        vertical-align: top;\n    }\n\n    .dataframe thead th {\n        text-align: right;\n    }\n</style>\n<table border=\"1\" class=\"dataframe\">\n  <thead>\n    <tr style=\"text-align: right;\">\n      <th></th>\n      <th>Unnamed: 0</th>\n      <th>contract</th>\n      <th>industry</th>\n      <th>longName</th>\n      <th>marketName</th>\n      <th>secIdList</th>\n    </tr>\n  </thead>\n  <tbody>\n    <tr>\n      <th>0</th>\n      <td>0</td>\n      <td>{'secType': 'STK', 'conId': 196473646, 'symbol...</td>\n      <td>Communications</td>\n      <td>1ST GROUP LTD</td>\n      <td>1ST</td>\n      <td>TagValue(tag='ISIN', value='AU0000001ST0')</td>\n    </tr>\n    <tr>\n      <th>1</th>\n      <td>0</td>\n      <td>{'secType': 'STK', 'conId': 147540466, 'symbol...</td>\n      <td>Consumer, Non-cyclical</td>\n      <td>2U INC</td>\n      <td>NMS</td>\n      <td>TagValue(tag='ISIN', value='US90214J1016')</td>\n    </tr>\n    <tr>\n      <th>2</th>\n      <td>0</td>\n      <td>{'secType': 'STK', 'conId': 139111268, 'symbol...</td>\n      <td>Industrial</td>\n      <td>3DX INDUSTRIES INC</td>\n      <td>CURRENT</td>\n      <td>TagValue(tag='ISIN', value='US88556A1007')</td>\n    </tr>\n    <tr>\n      <th>3</th>\n      <td>0</td>\n      <td>{'secType': 'STK', 'conId': 9720, 'symbol': 'M...</td>\n      <td>Industrial</td>\n      <td>3M CO</td>\n      <td>MMM</td>\n      <td>TagValue(tag='ISIN', value='US88579Y1010')</td>\n    </tr>\n    <tr>\n      <th>4</th>\n      <td>3</td>\n      <td>{'secType': 'STK', 'conId': 324526941, 'symbol...</td>\n      <td>Consumer, Non-cyclical</td>\n      <td>MARLEY SPOON AG-CDI</td>\n      <td>MMM</td>\n      <td>TagValue(tag='ISIN', value='AU0000013070')</td>\n    </tr>\n    <tr>\n      <th>...</th>\n      <td>...</td>\n      <td>...</td>\n      <td>...</td>\n      <td>...</td>\n      <td>...</td>\n      <td>...</td>\n    </tr>\n    <tr>\n      <th>22739</th>\n      <td>0</td>\n      <td>{'secType': 'STK', 'conId': 202225021, 'symbol...</td>\n      <td>Consumer, Non-cyclical</td>\n      <td>ZYNERBA PHARMACEUTICALS INC</td>\n      <td>NMS</td>\n      <td>TagValue(tag='ISIN', value='US98986X1090')</td>\n    </tr>\n    <tr>\n      <th>22740</th>\n      <td>0</td>\n      <td>{'secType': 'STK', 'conId': 52413740, 'symbol'...</td>\n      <td>Consumer, Non-cyclical</td>\n      <td>ZYNEX INC</td>\n      <td>NMS</td>\n      <td>TagValue(tag='ISIN', value='US98986M1036')</td>\n    </tr>\n    <tr>\n      <th>22741</th>\n      <td>0</td>\n      <td>{'secType': 'STK', 'conId': 172604496, 'symbol...</td>\n      <td>Technology</td>\n      <td>ZYNGA INC - CL A</td>\n      <td>ZNGA</td>\n      <td>TagValue(tag='ISIN', value='US98986T1088')</td>\n    </tr>\n    <tr>\n      <th>22742</th>\n      <td>0</td>\n      <td>{'secType': 'STK', 'conId': 300356872, 'symbol...</td>\n      <td>Industrial</td>\n      <td>ZYTRONIC PLC</td>\n      <td>ASQ1</td>\n      <td>TagValue(tag='ISIN', value='GB0006971013')</td>\n    </tr>\n    <tr>\n      <th>22743</th>\n      <td>0</td>\n      <td>{'secType': 'STK', 'conId': 489110466, 'symbol...</td>\n      <td>Financial</td>\n      <td>ZZ TECHNOLOGY GROUP CO LTD</td>\n      <td>8295</td>\n      <td>TagValue(tag='ISIN', value='KYG989MR1033')</td>\n    </tr>\n  </tbody>\n</table>\n<p>22744 rows × 6 columns</p>\n</div>"
     },
     "execution_count": 9,
     "metadata": {},
     "output_type": "execute_result"
    }
   ],
   "source": [
    "data"
   ],
   "metadata": {
    "collapsed": false,
    "pycharm": {
     "name": "#%%\n"
    }
   }
  },
  {
   "cell_type": "code",
   "execution_count": 10,
   "outputs": [
    {
     "name": "stderr",
     "output_type": "stream",
     "text": [
      "/var/folders/sb/9s3wjlmn3mj5lkscq0xyyt8m0000gn/T/ipykernel_91138/27893901.py:8: FutureWarning: The default value of regex will change from True to False in a future version. In addition, single character regular expressions will *not* be treated as literal strings when regex=True.\n",
      "  try_data=try_data.str.replace(\")\",\"\")\n"
     ]
    }
   ],
   "source": [
    "symbol = data.contract.str.split(expand=True)\n",
    "symbol = symbol.iloc[:,[5]].squeeze()\n",
    "symbol = symbol.str.replace(\"'\",\"\").str.replace(\",\",\"\")\n",
    "try_data = data.secIdList.str.split(expand=True)\n",
    "try_data=try_data.rename(columns={1:\"ISIN\"})\n",
    "try_data=try_data.ISIN.str.replace(\"value\",\"\")\n",
    "try_data=try_data.str.replace(\"='\",\"\")\n",
    "try_data=try_data.str.replace(\")\",\"\")\n",
    "try_data=try_data.str.replace(\"'\",\"\")\n",
    "data[\"ISIN\"]=try_data\n",
    "data[\"Symbol\"]=symbol\n",
    "data.drop([\"secIdList\",\"contract\",\"Unnamed: 0\"],axis=1,inplace=True)"
   ],
   "metadata": {
    "collapsed": false,
    "pycharm": {
     "name": "#%%\n"
    }
   }
  },
  {
   "cell_type": "code",
   "execution_count": 11,
   "outputs": [
    {
     "data": {
      "text/plain": "                  IB-industry                  IB-longName IB-marketName  \\\n0              Communications                1ST GROUP LTD           1ST   \n1      Consumer, Non-cyclical                       2U INC           NMS   \n2                  Industrial           3DX INDUSTRIES INC       CURRENT   \n3                  Industrial                        3M CO           MMM   \n4      Consumer, Non-cyclical          MARLEY SPOON AG-CDI           MMM   \n...                       ...                          ...           ...   \n22739  Consumer, Non-cyclical  ZYNERBA PHARMACEUTICALS INC           NMS   \n22740  Consumer, Non-cyclical                    ZYNEX INC           NMS   \n22741              Technology             ZYNGA INC - CL A          ZNGA   \n22742              Industrial                 ZYTRONIC PLC          ASQ1   \n22743               Financial   ZZ TECHNOLOGY GROUP CO LTD          8295   \n\n            IB-ISIN IB-Symbol  \n0      AU0000001ST0       1ST  \n1      US90214J1016      TWOU  \n2      US88556A1007      DDDX  \n3      US88579Y1010       MMM  \n4      AU0000013070       MMM  \n...             ...       ...  \n22739  US98986X1090      ZYNE  \n22740  US98986M1036      ZYXI  \n22741  US98986T1088      ZNGA  \n22742  GB0006971013       ZYT  \n22743  KYG989MR1033      8295  \n\n[22744 rows x 5 columns]",
      "text/html": "<div>\n<style scoped>\n    .dataframe tbody tr th:only-of-type {\n        vertical-align: middle;\n    }\n\n    .dataframe tbody tr th {\n        vertical-align: top;\n    }\n\n    .dataframe thead th {\n        text-align: right;\n    }\n</style>\n<table border=\"1\" class=\"dataframe\">\n  <thead>\n    <tr style=\"text-align: right;\">\n      <th></th>\n      <th>IB-industry</th>\n      <th>IB-longName</th>\n      <th>IB-marketName</th>\n      <th>IB-ISIN</th>\n      <th>IB-Symbol</th>\n    </tr>\n  </thead>\n  <tbody>\n    <tr>\n      <th>0</th>\n      <td>Communications</td>\n      <td>1ST GROUP LTD</td>\n      <td>1ST</td>\n      <td>AU0000001ST0</td>\n      <td>1ST</td>\n    </tr>\n    <tr>\n      <th>1</th>\n      <td>Consumer, Non-cyclical</td>\n      <td>2U INC</td>\n      <td>NMS</td>\n      <td>US90214J1016</td>\n      <td>TWOU</td>\n    </tr>\n    <tr>\n      <th>2</th>\n      <td>Industrial</td>\n      <td>3DX INDUSTRIES INC</td>\n      <td>CURRENT</td>\n      <td>US88556A1007</td>\n      <td>DDDX</td>\n    </tr>\n    <tr>\n      <th>3</th>\n      <td>Industrial</td>\n      <td>3M CO</td>\n      <td>MMM</td>\n      <td>US88579Y1010</td>\n      <td>MMM</td>\n    </tr>\n    <tr>\n      <th>4</th>\n      <td>Consumer, Non-cyclical</td>\n      <td>MARLEY SPOON AG-CDI</td>\n      <td>MMM</td>\n      <td>AU0000013070</td>\n      <td>MMM</td>\n    </tr>\n    <tr>\n      <th>...</th>\n      <td>...</td>\n      <td>...</td>\n      <td>...</td>\n      <td>...</td>\n      <td>...</td>\n    </tr>\n    <tr>\n      <th>22739</th>\n      <td>Consumer, Non-cyclical</td>\n      <td>ZYNERBA PHARMACEUTICALS INC</td>\n      <td>NMS</td>\n      <td>US98986X1090</td>\n      <td>ZYNE</td>\n    </tr>\n    <tr>\n      <th>22740</th>\n      <td>Consumer, Non-cyclical</td>\n      <td>ZYNEX INC</td>\n      <td>NMS</td>\n      <td>US98986M1036</td>\n      <td>ZYXI</td>\n    </tr>\n    <tr>\n      <th>22741</th>\n      <td>Technology</td>\n      <td>ZYNGA INC - CL A</td>\n      <td>ZNGA</td>\n      <td>US98986T1088</td>\n      <td>ZNGA</td>\n    </tr>\n    <tr>\n      <th>22742</th>\n      <td>Industrial</td>\n      <td>ZYTRONIC PLC</td>\n      <td>ASQ1</td>\n      <td>GB0006971013</td>\n      <td>ZYT</td>\n    </tr>\n    <tr>\n      <th>22743</th>\n      <td>Financial</td>\n      <td>ZZ TECHNOLOGY GROUP CO LTD</td>\n      <td>8295</td>\n      <td>KYG989MR1033</td>\n      <td>8295</td>\n    </tr>\n  </tbody>\n</table>\n<p>22744 rows × 5 columns</p>\n</div>"
     },
     "execution_count": 11,
     "metadata": {},
     "output_type": "execute_result"
    }
   ],
   "source": [
    "data=data.add_prefix('IB-')\n",
    "data"
   ],
   "metadata": {
    "collapsed": false,
    "pycharm": {
     "name": "#%%\n"
    }
   }
  },
  {
   "cell_type": "code",
   "execution_count": 12,
   "outputs": [],
   "source": [
    "data.to_csv('ibdata.csv')"
   ],
   "metadata": {
    "collapsed": false,
    "pycharm": {
     "name": "#%%\n"
    }
   }
  }
 ],
 "metadata": {
  "kernelspec": {
   "display_name": "Python 3",
   "language": "python",
   "name": "python3"
  },
  "language_info": {
   "codemirror_mode": {
    "name": "ipython",
    "version": 2
   },
   "file_extension": ".py",
   "mimetype": "text/x-python",
   "name": "python",
   "nbconvert_exporter": "python",
   "pygments_lexer": "ipython2",
   "version": "2.7.6"
  }
 },
 "nbformat": 4,
 "nbformat_minor": 0
}