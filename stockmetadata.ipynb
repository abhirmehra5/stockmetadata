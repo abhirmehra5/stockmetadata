{
 "cells": [
  {
   "cell_type": "code",
   "execution_count": 1,
   "outputs": [],
   "source": [
    "import pandas as pd"
   ],
   "metadata": {
    "collapsed": false,
    "pycharm": {
     "name": "#%%\n"
    }
   }
  },
  {
   "cell_type": "code",
   "execution_count": 2,
   "outputs": [],
   "source": [
    "ibdata = pd.read_csv('ibdata.csv')\n",
    "eoddata = pd.read_csv('eoddata.csv')\n",
    "figidata = pd.read_csv('openfigidata.csv')"
   ],
   "metadata": {
    "collapsed": false,
    "pycharm": {
     "name": "#%%\n"
    }
   }
  },
  {
   "cell_type": "code",
   "execution_count": 3,
   "outputs": [],
   "source": [
    "ibdata = ibdata.drop(['Unnamed: 0'],axis=1)\n",
    "eoddata = eoddata.drop(['Unnamed: 0'],axis=1)\n",
    "figidata = figidata.drop([\"Unnamed: 0\"],axis=1)"
   ],
   "metadata": {
    "collapsed": false,
    "pycharm": {
     "name": "#%%\n"
    }
   }
  },
  {
   "cell_type": "code",
   "execution_count": 4,
   "outputs": [],
   "source": [
    "data = pd.merge_ordered(ibdata,eoddata,left_on=\"IB-ISIN\",right_on=\"EOD-ISIN\",how=\"outer\")\n",
    "data = pd.merge(data,figidata,left_on=\"EOD-Code\",right_on=\"openFIGI-ticker\",how=\"outer\")"
   ],
   "metadata": {
    "collapsed": false,
    "pycharm": {
     "name": "#%%\n"
    }
   }
  },
  {
   "cell_type": "code",
   "execution_count": 5,
   "outputs": [
    {
     "data": {
      "text/plain": "                  IB-industry                           IB-longName  \\\n0      Consumer, Non-cyclical                   SINOVAC BIOTECH LTD   \n1      Consumer, Non-cyclical                   SINOVAC BIOTECH LTD   \n2                   Financial          BANK FUER TIROL & VORARL-PFD   \n3                  Industrial                                RHI AG   \n4                         NaN                   A-TEC INDUSTRIES AG   \n...                       ...                                   ...   \n29552                     NaN                     EOA: E.ON SE: ADJ   \n29553                     NaN  HHH: ETFMG REAL ESTATE TECH ETF: ADJ   \n29554                     NaN                     SAN: SANOFI: ADJ    \n29555                     NaN                                   NaN   \n29556                     NaN                                   NaN   \n\n      IB-marketName       IB-ISIN IB-Symbol      EOD-Code EOD-Exchange  \\\n0               NMS  AGP8696W1045       SVA           NaN          NaN   \n1             XETRA  AGP8696W1045       SVQ           NaN          NaN   \n2               BTV  AT0000625538       BTV           NaN          NaN   \n3               RHI  AT0000676903       RHI           NaN          NaN   \n4               AKH  AT0000A1ZH55       AKH           NaN          NaN   \n...             ...           ...       ...           ...          ...   \n29552          EOAB           NaN      EOAB  GG00B3BTVQ94       EUFUND   \n29553          HHH1           NaN      HHH1  GG00B3BTVQ94       EUFUND   \n29554           SNI           NaN       SNI  GG00B3BTVQ94       EUFUND   \n29555           NaN           NaN       NaN           NaN          NaN   \n29556           NaN           NaN       NaN           NaN          NaN   \n\n                                                EOD-Name EOD-Type EOD-Country  \\\n0                                                    NaN      NaN         NaN   \n1                                                    NaN      NaN         NaN   \n2                                                    NaN      NaN         NaN   \n3                                                    NaN      NaN         NaN   \n4                                                    NaN      NaN         NaN   \n...                                                  ...      ...         ...   \n29552  Harwood Capital Oryx International Growth Ltd ...     FUND     Unknown   \n29553  Harwood Capital Oryx International Growth Ltd ...     FUND     Unknown   \n29554  Harwood Capital Oryx International Growth Ltd ...     FUND     Unknown   \n29555                                                NaN      NaN         NaN   \n29556                                                NaN      NaN         NaN   \n\n       ... openFIGI-ticker openFIGI-exchCode  openFIGI-compositeFIGI  \\\n0      ...             NaN               NaN                     NaN   \n1      ...             NaN               NaN                     NaN   \n2      ...             NaN               NaN                     NaN   \n3      ...             NaN               NaN                     NaN   \n4      ...             NaN               NaN                     NaN   \n...    ...             ...               ...                     ...   \n29552  ...             NaN               NaN                     NaN   \n29553  ...             NaN               NaN                     NaN   \n29554  ...             NaN               NaN                     NaN   \n29555  ...             POQ                GR            BBG000BWTTK9   \n29556  ...            AQFD                US            BBG0073FB9K3   \n\n      openFIGI-uniqueID openFIGI-securityType openFIGI-marketSector  \\\n0                   NaN                   NaN                   NaN   \n1                   NaN                   NaN                   NaN   \n2                   NaN                   NaN                   NaN   \n3                   NaN                   NaN                   NaN   \n4                   NaN                   NaN                   NaN   \n...                 ...                   ...                   ...   \n29552               NaN                   NaN                   NaN   \n29553               NaN                   NaN                   NaN   \n29554               NaN                   NaN                   NaN   \n29555               NaN          Common Stock                Equity   \n29556               NaN          Common Stock                Equity   \n\n      openFIGI-shareClassFIGI openFIGI-uniqueIDFutOpt openFIGI-securityType2  \\\n0                         NaN                     NaN                    NaN   \n1                         NaN                     NaN                    NaN   \n2                         NaN                     NaN                    NaN   \n3                         NaN                     NaN                    NaN   \n4                         NaN                     NaN                    NaN   \n...                       ...                     ...                    ...   \n29552                     NaN                     NaN                    NaN   \n29553                     NaN                     NaN                    NaN   \n29554                     NaN                     NaN                    NaN   \n29555            BBG001SCV1F7                     NaN           Common Stock   \n29556            BBG0073FB9L2                     NaN           Common Stock   \n\n       openFIGI-securityDescription  \n0                               NaN  \n1                               NaN  \n2                               NaN  \n3                               NaN  \n4                               NaN  \n...                             ...  \n29552                           NaN  \n29553                           NaN  \n29554                           NaN  \n29555                           POQ  \n29556                          AQFD  \n\n[29557 rows x 26 columns]",
      "text/html": "<div>\n<style scoped>\n    .dataframe tbody tr th:only-of-type {\n        vertical-align: middle;\n    }\n\n    .dataframe tbody tr th {\n        vertical-align: top;\n    }\n\n    .dataframe thead th {\n        text-align: right;\n    }\n</style>\n<table border=\"1\" class=\"dataframe\">\n  <thead>\n    <tr style=\"text-align: right;\">\n      <th></th>\n      <th>IB-industry</th>\n      <th>IB-longName</th>\n      <th>IB-marketName</th>\n      <th>IB-ISIN</th>\n      <th>IB-Symbol</th>\n      <th>EOD-Code</th>\n      <th>EOD-Exchange</th>\n      <th>EOD-Name</th>\n      <th>EOD-Type</th>\n      <th>EOD-Country</th>\n      <th>...</th>\n      <th>openFIGI-ticker</th>\n      <th>openFIGI-exchCode</th>\n      <th>openFIGI-compositeFIGI</th>\n      <th>openFIGI-uniqueID</th>\n      <th>openFIGI-securityType</th>\n      <th>openFIGI-marketSector</th>\n      <th>openFIGI-shareClassFIGI</th>\n      <th>openFIGI-uniqueIDFutOpt</th>\n      <th>openFIGI-securityType2</th>\n      <th>openFIGI-securityDescription</th>\n    </tr>\n  </thead>\n  <tbody>\n    <tr>\n      <th>0</th>\n      <td>Consumer, Non-cyclical</td>\n      <td>SINOVAC BIOTECH LTD</td>\n      <td>NMS</td>\n      <td>AGP8696W1045</td>\n      <td>SVA</td>\n      <td>NaN</td>\n      <td>NaN</td>\n      <td>NaN</td>\n      <td>NaN</td>\n      <td>NaN</td>\n      <td>...</td>\n      <td>NaN</td>\n      <td>NaN</td>\n      <td>NaN</td>\n      <td>NaN</td>\n      <td>NaN</td>\n      <td>NaN</td>\n      <td>NaN</td>\n      <td>NaN</td>\n      <td>NaN</td>\n      <td>NaN</td>\n    </tr>\n    <tr>\n      <th>1</th>\n      <td>Consumer, Non-cyclical</td>\n      <td>SINOVAC BIOTECH LTD</td>\n      <td>XETRA</td>\n      <td>AGP8696W1045</td>\n      <td>SVQ</td>\n      <td>NaN</td>\n      <td>NaN</td>\n      <td>NaN</td>\n      <td>NaN</td>\n      <td>NaN</td>\n      <td>...</td>\n      <td>NaN</td>\n      <td>NaN</td>\n      <td>NaN</td>\n      <td>NaN</td>\n      <td>NaN</td>\n      <td>NaN</td>\n      <td>NaN</td>\n      <td>NaN</td>\n      <td>NaN</td>\n      <td>NaN</td>\n    </tr>\n    <tr>\n      <th>2</th>\n      <td>Financial</td>\n      <td>BANK FUER TIROL &amp; VORARL-PFD</td>\n      <td>BTV</td>\n      <td>AT0000625538</td>\n      <td>BTV</td>\n      <td>NaN</td>\n      <td>NaN</td>\n      <td>NaN</td>\n      <td>NaN</td>\n      <td>NaN</td>\n      <td>...</td>\n      <td>NaN</td>\n      <td>NaN</td>\n      <td>NaN</td>\n      <td>NaN</td>\n      <td>NaN</td>\n      <td>NaN</td>\n      <td>NaN</td>\n      <td>NaN</td>\n      <td>NaN</td>\n      <td>NaN</td>\n    </tr>\n    <tr>\n      <th>3</th>\n      <td>Industrial</td>\n      <td>RHI AG</td>\n      <td>RHI</td>\n      <td>AT0000676903</td>\n      <td>RHI</td>\n      <td>NaN</td>\n      <td>NaN</td>\n      <td>NaN</td>\n      <td>NaN</td>\n      <td>NaN</td>\n      <td>...</td>\n      <td>NaN</td>\n      <td>NaN</td>\n      <td>NaN</td>\n      <td>NaN</td>\n      <td>NaN</td>\n      <td>NaN</td>\n      <td>NaN</td>\n      <td>NaN</td>\n      <td>NaN</td>\n      <td>NaN</td>\n    </tr>\n    <tr>\n      <th>4</th>\n      <td>NaN</td>\n      <td>A-TEC INDUSTRIES AG</td>\n      <td>AKH</td>\n      <td>AT0000A1ZH55</td>\n      <td>AKH</td>\n      <td>NaN</td>\n      <td>NaN</td>\n      <td>NaN</td>\n      <td>NaN</td>\n      <td>NaN</td>\n      <td>...</td>\n      <td>NaN</td>\n      <td>NaN</td>\n      <td>NaN</td>\n      <td>NaN</td>\n      <td>NaN</td>\n      <td>NaN</td>\n      <td>NaN</td>\n      <td>NaN</td>\n      <td>NaN</td>\n      <td>NaN</td>\n    </tr>\n    <tr>\n      <th>...</th>\n      <td>...</td>\n      <td>...</td>\n      <td>...</td>\n      <td>...</td>\n      <td>...</td>\n      <td>...</td>\n      <td>...</td>\n      <td>...</td>\n      <td>...</td>\n      <td>...</td>\n      <td>...</td>\n      <td>...</td>\n      <td>...</td>\n      <td>...</td>\n      <td>...</td>\n      <td>...</td>\n      <td>...</td>\n      <td>...</td>\n      <td>...</td>\n      <td>...</td>\n      <td>...</td>\n    </tr>\n    <tr>\n      <th>29552</th>\n      <td>NaN</td>\n      <td>EOA: E.ON SE: ADJ</td>\n      <td>EOAB</td>\n      <td>NaN</td>\n      <td>EOAB</td>\n      <td>GG00B3BTVQ94</td>\n      <td>EUFUND</td>\n      <td>Harwood Capital Oryx International Growth Ltd ...</td>\n      <td>FUND</td>\n      <td>Unknown</td>\n      <td>...</td>\n      <td>NaN</td>\n      <td>NaN</td>\n      <td>NaN</td>\n      <td>NaN</td>\n      <td>NaN</td>\n      <td>NaN</td>\n      <td>NaN</td>\n      <td>NaN</td>\n      <td>NaN</td>\n      <td>NaN</td>\n    </tr>\n    <tr>\n      <th>29553</th>\n      <td>NaN</td>\n      <td>HHH: ETFMG REAL ESTATE TECH ETF: ADJ</td>\n      <td>HHH1</td>\n      <td>NaN</td>\n      <td>HHH1</td>\n      <td>GG00B3BTVQ94</td>\n      <td>EUFUND</td>\n      <td>Harwood Capital Oryx International Growth Ltd ...</td>\n      <td>FUND</td>\n      <td>Unknown</td>\n      <td>...</td>\n      <td>NaN</td>\n      <td>NaN</td>\n      <td>NaN</td>\n      <td>NaN</td>\n      <td>NaN</td>\n      <td>NaN</td>\n      <td>NaN</td>\n      <td>NaN</td>\n      <td>NaN</td>\n      <td>NaN</td>\n    </tr>\n    <tr>\n      <th>29554</th>\n      <td>NaN</td>\n      <td>SAN: SANOFI: ADJ</td>\n      <td>SNI</td>\n      <td>NaN</td>\n      <td>SNI</td>\n      <td>GG00B3BTVQ94</td>\n      <td>EUFUND</td>\n      <td>Harwood Capital Oryx International Growth Ltd ...</td>\n      <td>FUND</td>\n      <td>Unknown</td>\n      <td>...</td>\n      <td>NaN</td>\n      <td>NaN</td>\n      <td>NaN</td>\n      <td>NaN</td>\n      <td>NaN</td>\n      <td>NaN</td>\n      <td>NaN</td>\n      <td>NaN</td>\n      <td>NaN</td>\n      <td>NaN</td>\n    </tr>\n    <tr>\n      <th>29555</th>\n      <td>NaN</td>\n      <td>NaN</td>\n      <td>NaN</td>\n      <td>NaN</td>\n      <td>NaN</td>\n      <td>NaN</td>\n      <td>NaN</td>\n      <td>NaN</td>\n      <td>NaN</td>\n      <td>NaN</td>\n      <td>...</td>\n      <td>POQ</td>\n      <td>GR</td>\n      <td>BBG000BWTTK9</td>\n      <td>NaN</td>\n      <td>Common Stock</td>\n      <td>Equity</td>\n      <td>BBG001SCV1F7</td>\n      <td>NaN</td>\n      <td>Common Stock</td>\n      <td>POQ</td>\n    </tr>\n    <tr>\n      <th>29556</th>\n      <td>NaN</td>\n      <td>NaN</td>\n      <td>NaN</td>\n      <td>NaN</td>\n      <td>NaN</td>\n      <td>NaN</td>\n      <td>NaN</td>\n      <td>NaN</td>\n      <td>NaN</td>\n      <td>NaN</td>\n      <td>...</td>\n      <td>AQFD</td>\n      <td>US</td>\n      <td>BBG0073FB9K3</td>\n      <td>NaN</td>\n      <td>Common Stock</td>\n      <td>Equity</td>\n      <td>BBG0073FB9L2</td>\n      <td>NaN</td>\n      <td>Common Stock</td>\n      <td>AQFD</td>\n    </tr>\n  </tbody>\n</table>\n<p>29557 rows × 26 columns</p>\n</div>"
     },
     "execution_count": 5,
     "metadata": {},
     "output_type": "execute_result"
    }
   ],
   "source": [
    "data"
   ],
   "metadata": {
    "collapsed": false,
    "pycharm": {
     "name": "#%%\n"
    }
   }
  },
  {
   "cell_type": "code",
   "execution_count": 6,
   "outputs": [
    {
     "data": {
      "text/plain": "Index(['IB-industry', 'IB-longName', 'IB-marketName', 'IB-ISIN', 'IB-Symbol',\n       'EOD-Code', 'EOD-Exchange', 'EOD-Name', 'EOD-Type', 'EOD-Country',\n       'EOD-Currency', 'EOD-ISIN', 'EOD-previousClose',\n       'EOD-previousCloseDate', 'openFIGI-figi', 'openFIGI-name',\n       'openFIGI-ticker', 'openFIGI-exchCode', 'openFIGI-compositeFIGI',\n       'openFIGI-uniqueID', 'openFIGI-securityType', 'openFIGI-marketSector',\n       'openFIGI-shareClassFIGI', 'openFIGI-uniqueIDFutOpt',\n       'openFIGI-securityType2', 'openFIGI-securityDescription'],\n      dtype='object')"
     },
     "execution_count": 6,
     "metadata": {},
     "output_type": "execute_result"
    }
   ],
   "source": [
    "data.columns"
   ],
   "metadata": {
    "collapsed": false,
    "pycharm": {
     "name": "#%%\n"
    }
   }
  },
  {
   "cell_type": "code",
   "execution_count": 7,
   "outputs": [
    {
     "data": {
      "text/plain": "IB-industry                      2558\nIB-longName                        64\nIB-marketName                      64\nIB-ISIN                           184\nIB-Symbol                          64\nEOD-Code                         5505\nEOD-Exchange                     5501\nEOD-Name                         5501\nEOD-Type                         5501\nEOD-Country                      5501\nEOD-Currency                     5501\nEOD-ISIN                         5621\nEOD-previousClose                5501\nEOD-previousCloseDate            5501\nopenFIGI-figi                   29527\nopenFIGI-name                   29527\nopenFIGI-ticker                 29527\nopenFIGI-exchCode               29527\nopenFIGI-compositeFIGI          29527\nopenFIGI-uniqueID               29557\nopenFIGI-securityType           29527\nopenFIGI-marketSector           29527\nopenFIGI-shareClassFIGI         29527\nopenFIGI-uniqueIDFutOpt         29557\nopenFIGI-securityType2          29527\nopenFIGI-securityDescription    29527\ndtype: int64"
     },
     "execution_count": 7,
     "metadata": {},
     "output_type": "execute_result"
    }
   ],
   "source": [
    "data.isna().sum()"
   ],
   "metadata": {
    "collapsed": false,
    "pycharm": {
     "name": "#%%\n"
    }
   }
  },
  {
   "cell_type": "code",
   "execution_count": 8,
   "outputs": [],
   "source": [
    "data.to_csv('stockmetadata.csv')"
   ],
   "metadata": {
    "collapsed": false,
    "pycharm": {
     "name": "#%%\n"
    }
   }
  }
 ],
 "metadata": {
  "kernelspec": {
   "display_name": "Python 3",
   "language": "python",
   "name": "python3"
  },
  "language_info": {
   "codemirror_mode": {
    "name": "ipython",
    "version": 2
   },
   "file_extension": ".py",
   "mimetype": "text/x-python",
   "name": "python",
   "nbconvert_exporter": "python",
   "pygments_lexer": "ipython2",
   "version": "2.7.6"
  }
 },
 "nbformat": 4,
 "nbformat_minor": 0
}