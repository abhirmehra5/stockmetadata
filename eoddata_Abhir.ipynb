{
 "cells": [
  {
   "cell_type": "code",
   "execution_count": 1,
   "outputs": [],
   "source": [
    "import pandas as pd\n",
    "import requests"
   ],
   "metadata": {
    "collapsed": false,
    "pycharm": {
     "name": "#%%\n"
    }
   }
  },
  {
   "cell_type": "code",
   "execution_count": 2,
   "outputs": [],
   "source": [
    "data = pd.read_csv('ibdata_Abhir.csv')"
   ],
   "metadata": {
    "collapsed": false,
    "pycharm": {
     "name": "#%%\n"
    }
   }
  },
  {
   "cell_type": "code",
   "execution_count": 4,
   "outputs": [],
   "source": [
    "df=pd.DataFrame(columns=[\"Code\",\"Exchange\",\"Name\",\"Type\",\"Country\",\"Currency\",\"ISIN\",\"previousClose\",\"previousCloseDate\"])\n",
    "df2 = pd.DataFrame(columns=[\"Code\",\"Exchange\",\"Name\",\"Type\",\"Country\",\"Currency\",\"ISIN\",\"previousClose\",\"previousCloseDate\"])\n",
    "isin = data[\"IB-ISIN\"]"
   ],
   "metadata": {
    "collapsed": false,
    "pycharm": {
     "name": "#%%\n"
    }
   }
  },
  {
   "cell_type": "code",
   "execution_count": 5,
   "outputs": [],
   "source": [
    "for i in isin:\n",
    "    try:\n",
    "        newdata = f'https://eodhistoricaldata.com/api/search/{i}?api_token=5f3afd582bd7b4.95720069'\n",
    "        a = requests.get(newdata).json()\n",
    "        df3 = pd.DataFrame(a)\n",
    "        df = pd.concat([df,df3])\n",
    "    except:\n",
    "        df=pd.concat([df,df2])"
   ],
   "metadata": {
    "collapsed": false,
    "pycharm": {
     "name": "#%%\n"
    }
   }
  },
  {
   "cell_type": "code",
   "execution_count": 6,
   "outputs": [
    {
     "data": {
      "text/plain": "   EOD-Code EOD-Exchange                     EOD-Name      EOD-Type  \\\n0       1ST           AU             1stAvailable Ltd  Common Stock   \n0      TWOU           US                       2U Inc  Common Stock   \n0      DDDX           US           3Dx Industries Inc  Common Stock   \n0       MMM           US                   3M Company  Common Stock   \n1       MMM        XETRA                   3M Company  Common Stock   \n..      ...          ...                          ...           ...   \n0      ZYME           US                Zymeworks Inc  Common Stock   \n0      ZYNE           US  Zynerba Pharmaceuticals Inc  Common Stock   \n0      ZYXI           US                    Zynex Inc  Common Stock   \n0       ZYT          LSE                     Zytronic  Common Stock   \n0      8295           HK   ZZ Technology Group Co Ltd  Common Stock   \n\n   EOD-Country EOD-Currency      EOD-ISIN  EOD-previousClose  \\\n0    Australia          AUD  AU0000001ST0             0.0070   \n0          USA          USD  US90214J1016            11.0700   \n0          USA          USD  US88556A1007             0.0595   \n0          USA          USD  US88579Y1010           133.0100   \n1      Germany          EUR  US88579Y1010           130.6400   \n..         ...          ...           ...                ...   \n0          USA          USD  CA98985W1023             6.2600   \n0          USA          USD  US98986X1090             1.1500   \n0          USA          USD  US98986M1036             7.6300   \n0           UK          GBX  GB0006971013           130.0000   \n0    Hong Kong          HKD  KYG989MR1033             0.2800   \n\n   EOD-previousCloseDate  \n0             2022-07-20  \n0             2022-07-20  \n0             2022-07-20  \n0             2022-07-20  \n1             2022-07-20  \n..                   ...  \n0             2022-07-20  \n0             2022-07-20  \n0             2022-07-20  \n0             2022-07-20  \n0             2022-07-20  \n\n[22055 rows x 9 columns]",
      "text/html": "<div>\n<style scoped>\n    .dataframe tbody tr th:only-of-type {\n        vertical-align: middle;\n    }\n\n    .dataframe tbody tr th {\n        vertical-align: top;\n    }\n\n    .dataframe thead th {\n        text-align: right;\n    }\n</style>\n<table border=\"1\" class=\"dataframe\">\n  <thead>\n    <tr style=\"text-align: right;\">\n      <th></th>\n      <th>EOD-Code</th>\n      <th>EOD-Exchange</th>\n      <th>EOD-Name</th>\n      <th>EOD-Type</th>\n      <th>EOD-Country</th>\n      <th>EOD-Currency</th>\n      <th>EOD-ISIN</th>\n      <th>EOD-previousClose</th>\n      <th>EOD-previousCloseDate</th>\n    </tr>\n  </thead>\n  <tbody>\n    <tr>\n      <th>0</th>\n      <td>1ST</td>\n      <td>AU</td>\n      <td>1stAvailable Ltd</td>\n      <td>Common Stock</td>\n      <td>Australia</td>\n      <td>AUD</td>\n      <td>AU0000001ST0</td>\n      <td>0.0070</td>\n      <td>2022-07-20</td>\n    </tr>\n    <tr>\n      <th>0</th>\n      <td>TWOU</td>\n      <td>US</td>\n      <td>2U Inc</td>\n      <td>Common Stock</td>\n      <td>USA</td>\n      <td>USD</td>\n      <td>US90214J1016</td>\n      <td>11.0700</td>\n      <td>2022-07-20</td>\n    </tr>\n    <tr>\n      <th>0</th>\n      <td>DDDX</td>\n      <td>US</td>\n      <td>3Dx Industries Inc</td>\n      <td>Common Stock</td>\n      <td>USA</td>\n      <td>USD</td>\n      <td>US88556A1007</td>\n      <td>0.0595</td>\n      <td>2022-07-20</td>\n    </tr>\n    <tr>\n      <th>0</th>\n      <td>MMM</td>\n      <td>US</td>\n      <td>3M Company</td>\n      <td>Common Stock</td>\n      <td>USA</td>\n      <td>USD</td>\n      <td>US88579Y1010</td>\n      <td>133.0100</td>\n      <td>2022-07-20</td>\n    </tr>\n    <tr>\n      <th>1</th>\n      <td>MMM</td>\n      <td>XETRA</td>\n      <td>3M Company</td>\n      <td>Common Stock</td>\n      <td>Germany</td>\n      <td>EUR</td>\n      <td>US88579Y1010</td>\n      <td>130.6400</td>\n      <td>2022-07-20</td>\n    </tr>\n    <tr>\n      <th>...</th>\n      <td>...</td>\n      <td>...</td>\n      <td>...</td>\n      <td>...</td>\n      <td>...</td>\n      <td>...</td>\n      <td>...</td>\n      <td>...</td>\n      <td>...</td>\n    </tr>\n    <tr>\n      <th>0</th>\n      <td>ZYME</td>\n      <td>US</td>\n      <td>Zymeworks Inc</td>\n      <td>Common Stock</td>\n      <td>USA</td>\n      <td>USD</td>\n      <td>CA98985W1023</td>\n      <td>6.2600</td>\n      <td>2022-07-20</td>\n    </tr>\n    <tr>\n      <th>0</th>\n      <td>ZYNE</td>\n      <td>US</td>\n      <td>Zynerba Pharmaceuticals Inc</td>\n      <td>Common Stock</td>\n      <td>USA</td>\n      <td>USD</td>\n      <td>US98986X1090</td>\n      <td>1.1500</td>\n      <td>2022-07-20</td>\n    </tr>\n    <tr>\n      <th>0</th>\n      <td>ZYXI</td>\n      <td>US</td>\n      <td>Zynex Inc</td>\n      <td>Common Stock</td>\n      <td>USA</td>\n      <td>USD</td>\n      <td>US98986M1036</td>\n      <td>7.6300</td>\n      <td>2022-07-20</td>\n    </tr>\n    <tr>\n      <th>0</th>\n      <td>ZYT</td>\n      <td>LSE</td>\n      <td>Zytronic</td>\n      <td>Common Stock</td>\n      <td>UK</td>\n      <td>GBX</td>\n      <td>GB0006971013</td>\n      <td>130.0000</td>\n      <td>2022-07-20</td>\n    </tr>\n    <tr>\n      <th>0</th>\n      <td>8295</td>\n      <td>HK</td>\n      <td>ZZ Technology Group Co Ltd</td>\n      <td>Common Stock</td>\n      <td>Hong Kong</td>\n      <td>HKD</td>\n      <td>KYG989MR1033</td>\n      <td>0.2800</td>\n      <td>2022-07-20</td>\n    </tr>\n  </tbody>\n</table>\n<p>22055 rows × 9 columns</p>\n</div>"
     },
     "execution_count": 6,
     "metadata": {},
     "output_type": "execute_result"
    }
   ],
   "source": [
    "df = df.add_prefix('EOD-')\n",
    "df"
   ],
   "metadata": {
    "collapsed": false,
    "pycharm": {
     "name": "#%%\n"
    }
   }
  },
  {
   "cell_type": "code",
   "execution_count": 7,
   "outputs": [],
   "source": [
    "df.to_csv('eoddata_unclean_Abhir.csv')"
   ],
   "metadata": {
    "collapsed": false,
    "pycharm": {
     "name": "#%%\n"
    }
   }
  }
 ],
 "metadata": {
  "kernelspec": {
   "display_name": "Python 3",
   "language": "python",
   "name": "python3"
  },
  "language_info": {
   "codemirror_mode": {
    "name": "ipython",
    "version": 2
   },
   "file_extension": ".py",
   "mimetype": "text/x-python",
   "name": "python",
   "nbconvert_exporter": "python",
   "pygments_lexer": "ipython2",
   "version": "2.7.6"
  }
 },
 "nbformat": 4,
 "nbformat_minor": 0
}