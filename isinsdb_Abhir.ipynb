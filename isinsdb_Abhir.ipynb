{
 "cells": [
  {
   "cell_type": "code",
   "execution_count": 8,
   "outputs": [],
   "source": [
    "import pandas as pd\n",
    "from selenium import webdriver\n",
    "from selenium.webdriver.common.by import By\n",
    "from selenium.webdriver.common.keys import Keys"
   ],
   "metadata": {
    "collapsed": false,
    "pycharm": {
     "name": "#%%\n"
    }
   }
  },
  {
   "cell_type": "code",
   "execution_count": 9,
   "outputs": [],
   "source": [
    "PATH = \"/Users/AbhirMehra/Downloads/chromedriver\"\n",
    "ibdata = pd.read_csv('ibdata_Abhir.csv')\n",
    "ib_isin = ibdata[\"IB-ISIN\"]"
   ],
   "metadata": {
    "collapsed": false,
    "pycharm": {
     "name": "#%%\n"
    }
   }
  },
  {
   "cell_type": "code",
   "execution_count": 10,
   "outputs": [],
   "source": [
    "df = pd.DataFrame(columns=[\"Title\",\"ISIN\",\"Country\",\"Description\",\"Type\"])\n",
    "df2 = pd.DataFrame(columns=[\"Title\",\"ISIN\",\"Country\",\"Description\",\"Type\"])"
   ],
   "metadata": {
    "collapsed": false,
    "pycharm": {
     "name": "#%%\n"
    }
   }
  },
  {
   "cell_type": "code",
   "execution_count": 11,
   "outputs": [
    {
     "name": "stderr",
     "output_type": "stream",
     "text": [
      "/var/folders/sb/9s3wjlmn3mj5lkscq0xyyt8m0000gn/T/ipykernel_74439/3872219818.py:2: DeprecationWarning: executable_path has been deprecated, please pass in a Service object\n",
      "  browser = webdriver.Chrome(PATH)\n"
     ]
    }
   ],
   "source": [
    "url = 'https://www.isin.com/wp-login.php'\n",
    "browser = webdriver.Chrome(PATH)"
   ],
   "metadata": {
    "collapsed": false,
    "pycharm": {
     "name": "#%%\n"
    }
   }
  },
  {
   "cell_type": "code",
   "execution_count": 12,
   "outputs": [],
   "source": [
    "browser.get(url)"
   ],
   "metadata": {
    "collapsed": false,
    "pycharm": {
     "name": "#%%\n"
    }
   }
  },
  {
   "cell_type": "code",
   "execution_count": 13,
   "outputs": [],
   "source": [
    "username= browser.find_element(By.CLASS_NAME,\"input\")\n",
    "username.send_keys(\"abhirmehra5@gmail.com\")\n",
    "password = browser.find_element(By.NAME,\"pwd\")\n",
    "password.send_keys(\"*********\")\n",
    "login = browser.find_element(By.NAME,\"wp-submit\")\n",
    "login.send_keys(Keys.RETURN)\n",
    "database=browser.find_element(By.CLASS_NAME,\"white-button\")\n",
    "database.send_keys(Keys.RETURN)\n",
    "for i in ib_isin:\n",
    "    try:\n",
    "        isin = browser.find_element(By.NAME,\"isin\")\n",
    "        isin.send_keys(i)\n",
    "        search=browser.find_element(By.NAME,\"search_search\")\n",
    "        search.send_keys(Keys.RETURN)\n",
    "        data = browser.find_elements(By.TAG_NAME,\"td\")\n",
    "        book = {}\n",
    "        book[\"Title\"] = data[0].text\n",
    "        book[\"ISIN\"] = data[1].text\n",
    "        book[\"Country\"] = data[2].text\n",
    "        book[\"Description\"] = data[3].text\n",
    "        book[\"Type\"] = data[4].text\n",
    "        df120=pd.DataFrame.from_dict(book.values()).T\n",
    "        df120=df120.rename(columns={0: \"Title\", 1: \"ISIN\",2:\"Country\",3:\"Description\",4:\"Type\"})\n",
    "        df = pd.concat([df,df120])\n",
    "    except:\n",
    "        df = pd.concat([df,df2])"
   ],
   "metadata": {
    "collapsed": false,
    "pycharm": {
     "name": "#%%\n"
    }
   }
  },
  {
   "cell_type": "code",
   "execution_count": 14,
   "outputs": [
    {
     "data": {
      "text/plain": "                        Title          ISIN             Country  \\\n0                          3M  US88579Y1010       United States   \n0                              US00089Y1091                  US   \n0                              US00202F1021                  US   \n0                              FR0010050773                  FR   \n0                              SG1S12926576                  SG   \n..                        ...           ...                 ...   \n0                              PLZBMZC00019                       \n0   ZURICH FINL SVC.NA.SF0,10  CH0011075394         Switzerland   \n0   ZWACK UNICUM NA A UF 1000  HU0000074844             Hungary   \n0                              US98986T1088                       \n0                              GB0006971013  Great Britain - GB   \n\n                                    Description    Type  \n0    Equity, ISIN US88579Y1010, WKN 851745, MMM  Equity  \n0                                           COM          \n0                                           ADR          \n0                          ORDINARY SHARE EUR 1          \n0                                ORDINARY SHARE          \n..                                          ...     ...  \n0                                                        \n0   Equity, ISIN CH0011075394, WKN 579919, ZFIN  Equity  \n0   Equity, ISIN HU0000074844, WKN A0DK5W, ZWC1  Equity  \n0                                          CL A          \n0                                   ORD GBP0.01          \n\n[10963 rows x 5 columns]",
      "text/html": "<div>\n<style scoped>\n    .dataframe tbody tr th:only-of-type {\n        vertical-align: middle;\n    }\n\n    .dataframe tbody tr th {\n        vertical-align: top;\n    }\n\n    .dataframe thead th {\n        text-align: right;\n    }\n</style>\n<table border=\"1\" class=\"dataframe\">\n  <thead>\n    <tr style=\"text-align: right;\">\n      <th></th>\n      <th>Title</th>\n      <th>ISIN</th>\n      <th>Country</th>\n      <th>Description</th>\n      <th>Type</th>\n    </tr>\n  </thead>\n  <tbody>\n    <tr>\n      <th>0</th>\n      <td>3M</td>\n      <td>US88579Y1010</td>\n      <td>United States</td>\n      <td>Equity, ISIN US88579Y1010, WKN 851745, MMM</td>\n      <td>Equity</td>\n    </tr>\n    <tr>\n      <th>0</th>\n      <td></td>\n      <td>US00089Y1091</td>\n      <td>US</td>\n      <td>COM</td>\n      <td></td>\n    </tr>\n    <tr>\n      <th>0</th>\n      <td></td>\n      <td>US00202F1021</td>\n      <td>US</td>\n      <td>ADR</td>\n      <td></td>\n    </tr>\n    <tr>\n      <th>0</th>\n      <td></td>\n      <td>FR0010050773</td>\n      <td>FR</td>\n      <td>ORDINARY SHARE EUR 1</td>\n      <td></td>\n    </tr>\n    <tr>\n      <th>0</th>\n      <td></td>\n      <td>SG1S12926576</td>\n      <td>SG</td>\n      <td>ORDINARY SHARE</td>\n      <td></td>\n    </tr>\n    <tr>\n      <th>...</th>\n      <td>...</td>\n      <td>...</td>\n      <td>...</td>\n      <td>...</td>\n      <td>...</td>\n    </tr>\n    <tr>\n      <th>0</th>\n      <td></td>\n      <td>PLZBMZC00019</td>\n      <td></td>\n      <td></td>\n      <td></td>\n    </tr>\n    <tr>\n      <th>0</th>\n      <td>ZURICH FINL SVC.NA.SF0,10</td>\n      <td>CH0011075394</td>\n      <td>Switzerland</td>\n      <td>Equity, ISIN CH0011075394, WKN 579919, ZFIN</td>\n      <td>Equity</td>\n    </tr>\n    <tr>\n      <th>0</th>\n      <td>ZWACK UNICUM NA A UF 1000</td>\n      <td>HU0000074844</td>\n      <td>Hungary</td>\n      <td>Equity, ISIN HU0000074844, WKN A0DK5W, ZWC1</td>\n      <td>Equity</td>\n    </tr>\n    <tr>\n      <th>0</th>\n      <td></td>\n      <td>US98986T1088</td>\n      <td></td>\n      <td>CL A</td>\n      <td></td>\n    </tr>\n    <tr>\n      <th>0</th>\n      <td></td>\n      <td>GB0006971013</td>\n      <td>Great Britain - GB</td>\n      <td>ORD GBP0.01</td>\n      <td></td>\n    </tr>\n  </tbody>\n</table>\n<p>10963 rows × 5 columns</p>\n</div>"
     },
     "execution_count": 14,
     "metadata": {},
     "output_type": "execute_result"
    }
   ],
   "source": [
    "df"
   ],
   "metadata": {
    "collapsed": false,
    "pycharm": {
     "name": "#%%\n"
    }
   }
  },
  {
   "cell_type": "code",
   "execution_count": 17,
   "outputs": [],
   "source": [
    "df=df.add_prefix(\"isindb-\")"
   ],
   "metadata": {
    "collapsed": false,
    "pycharm": {
     "name": "#%%\n"
    }
   }
  },
  {
   "cell_type": "code",
   "execution_count": 18,
   "outputs": [],
   "source": [
    "df.to_csv('isindb_Abhir.csv')"
   ],
   "metadata": {
    "collapsed": false,
    "pycharm": {
     "name": "#%%\n"
    }
   }
  }
 ],
 "metadata": {
  "kernelspec": {
   "display_name": "Python 3",
   "language": "python",
   "name": "python3"
  },
  "language_info": {
   "codemirror_mode": {
    "name": "ipython",
    "version": 2
   },
   "file_extension": ".py",
   "mimetype": "text/x-python",
   "name": "python",
   "nbconvert_exporter": "python",
   "pygments_lexer": "ipython2",
   "version": "2.7.6"
  }
 },
 "nbformat": 4,
 "nbformat_minor": 0
}